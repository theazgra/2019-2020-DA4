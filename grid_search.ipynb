{
  "nbformat": 4,
  "nbformat_minor": 0,
  "metadata": {
    "orig_nbformat": 2,
    "file_extension": ".py",
    "mimetype": "text/x-python",
    "name": "python",
    "npconvert_exporter": "python",
    "pygments_lexer": "ipython3",
    "version": 3,
    "colab": {
      "name": "grid_search.ipynb",
      "provenance": []
    },
    "kernelspec": {
      "name": "python3",
      "display_name": "Python 3"
    }
  },
  "cells": [
    {
      "cell_type": "markdown",
      "metadata": {
        "id": "hNQ0qb83gII9",
        "colab_type": "text"
      },
      "source": [
        "Grid search hyperparameter optimalization"
      ]
    },
    {
      "cell_type": "code",
      "metadata": {
        "id": "0JgKueBEgQlN",
        "colab_type": "code",
        "colab": {
          "base_uri": "https://localhost:8080/",
          "height": 51
        },
        "outputId": "d2c8b91b-94b1-4e1b-ab01-108e671826e0"
      },
      "source": [
        "%tensorflow_version 1.x\n",
        "import tensorflow as tf\n",
        "import tensorflow.keras as keras\n",
        "import numpy as np\n",
        "import pandas as pd\n",
        "import matplotlib.pyplot as plt\n",
        "from sklearn.model_selection import train_test_split\n",
        "from sklearn.preprocessing import normalize\n",
        "from sklearn.pipeline import Pipeline\n",
        "from sklearn.model_selection import GridSearchCV\n",
        "from sklearn.preprocessing import StandardScaler\n",
        "from keras.wrappers.scikit_learn import KerasClassifier\n",
        "from keras.layers import Dense, Input, Dropout\n",
        "from keras import Sequential\n",
        "\n",
        "print(tf.version.VERSION)"
      ],
      "execution_count": 1,
      "outputs": [
        {
          "output_type": "stream",
          "text": [
            "1.15.0\n"
          ],
          "name": "stdout"
        },
        {
          "output_type": "stream",
          "text": [
            "Using TensorFlow backend.\n"
          ],
          "name": "stderr"
        }
      ]
    },
    {
      "cell_type": "code",
      "metadata": {
        "id": "GRp43S4Zgmxt",
        "colab_type": "code",
        "colab": {
          "base_uri": "https://localhost:8080/",
          "height": 85
        },
        "outputId": "0318b089-560f-49b7-8dd9-1db028a0f633"
      },
      "source": [
        "fm_dataset = tf.keras.datasets.fashion_mnist\n",
        "\n",
        "(train_x, train_y), (test_x, test_y) = fm_dataset.load_data()\n",
        "\n",
        "train_x, test_x = train_x/255.0, test_x/255.0\n",
        "\n",
        "train_x, valid_x, train_y, valid_y = train_test_split(train_x, train_y, test_size=0.2, random_state=42)\n",
        "\n",
        "# the data are in the form of 28x28 pixes with values 0-255.\n",
        "print('Train data shape: ', train_x.shape, train_y.shape)\n",
        "print('Validation data shape: ', valid_x.shape, valid_y.shape)\n",
        "print('Test data shape:  ', test_x.shape, test_y.shape)\n",
        "\n",
        "class_names = ['T-shirt/top', 'Trouser', 'Pullover', 'Dress', 'Coat', 'Sandal', 'Shirt', 'Sneaker', 'Bag', 'Ankle boo']\n",
        "class_count = len(class_names)\n",
        "class_count"
      ],
      "execution_count": 9,
      "outputs": [
        {
          "output_type": "stream",
          "text": [
            "Train data shape:  (48000, 28, 28) (48000,)\n",
            "Validation data shape:  (12000, 28, 28) (12000,)\n",
            "Test data shape:   (10000, 28, 28) (10000,)\n"
          ],
          "name": "stdout"
        },
        {
          "output_type": "execute_result",
          "data": {
            "text/plain": [
              "10"
            ]
          },
          "metadata": {
            "tags": []
          },
          "execution_count": 9
        }
      ]
    },
    {
      "cell_type": "code",
      "metadata": {
        "id": "0lLKQzW2hcDK",
        "colab_type": "code",
        "colab": {}
      },
      "source": [
        "def create_model(dropout=0.1, init='uniform', dense_nparams=64, dense_layer_count=2):\n",
        "  model = keras.Sequential()\n",
        "\n",
        "  model.add(keras.layers.Flatten(input_shape=(28,28)))\n",
        "\n",
        "  for x in range(int(dense_layer_count / 2)):\n",
        "    model.add(keras.layers.Dense(dense_nparams, activation=tf.nn.relu))\n",
        "\n",
        "  model.add(keras.layers.Dropout(dropout))\n",
        "\n",
        "  for x in range(int(dense_layer_count / 2)):\n",
        "    model.add(keras.layers.Dense(dense_nparams, activation=tf.nn.relu))\n",
        "\n",
        "  model.add(keras.layers.Dense(class_count, activation=tf.nn.softmax))\n",
        "\n",
        "  model.compile(loss=keras.losses.SparseCategoricalCrossentropy(from_logits=False),\n",
        "                optimizer='adam',\n",
        "                metrics=['accuracy'])\n",
        "  \n",
        "  return model"
      ],
      "execution_count": 0,
      "outputs": []
    },
    {
      "cell_type": "code",
      "metadata": {
        "id": "ApUN-zUMhCtf",
        "colab_type": "code",
        "colab": {}
      },
      "source": [
        "baseModel = create_model()\n",
        "baseModelHistory = baseModel.fit(train_x, train_y, validation_data=(valid_x, valid_y), epochs=10)"
      ],
      "execution_count": 0,
      "outputs": []
    },
    {
      "cell_type": "code",
      "metadata": {
        "id": "8Pts9gVikt-D",
        "colab_type": "code",
        "colab": {}
      },
      "source": [
        "show_history(baseModelHistory)\n",
        "test_loss, test_acc = baseModel.evaluate(test_x, test_y)\n",
        "print('Test accuracy: ', test_acc)"
      ],
      "execution_count": 0,
      "outputs": []
    },
    {
      "cell_type": "code",
      "metadata": {
        "id": "4BTosdXGkOUc",
        "colab_type": "code",
        "colab": {}
      },
      "source": [
        "def show_history(history):\n",
        "    plt.figure()\n",
        "    for key in history.history.keys():\n",
        "        plt.plot(history.epoch, history.history[key], label=key)\n",
        "    plt.legend()\n",
        "    plt.tight_layout()"
      ],
      "execution_count": 0,
      "outputs": []
    },
    {
      "cell_type": "code",
      "metadata": {
        "id": "Ssj2xgiYkRFy",
        "colab_type": "code",
        "colab": {}
      },
      "source": [
        "keras_classifier = KerasClassifier(build_fn=create_model, verbose=1)"
      ],
      "execution_count": 0,
      "outputs": []
    },
    {
      "cell_type": "code",
      "metadata": {
        "id": "ofMqaBzKmkka",
        "colab_type": "code",
        "colab": {}
      },
      "source": [
        "estimator = Pipeline([(\"kc\", keras_classifier)])"
      ],
      "execution_count": 0,
      "outputs": []
    },
    {
      "cell_type": "code",
      "metadata": {
        "id": "RplT3Zvbldi_",
        "colab_type": "code",
        "colab": {}
      },
      "source": [
        "#def create_model(dropout=0.1, init='uniform',  dense_nparams=64, dense_layer_count=2):\n",
        "param_grid = {\n",
        "    #'kc__epochs': [10,20,30],\n",
        "    'kc__dense_nparams': [32, 64, 128, 256, 512],\n",
        "    'kc__init': [ 'uniform', 'zeros', 'normal', ], \n",
        "    'kc__dense_layer_count':[2, 4, 8, 16],\n",
        "    'kc__dropout': [0.5, 0.4, 0.3, 0.2, 0.1, 0]\n",
        "}\n",
        "X = train_x\n",
        "y = train_y\n",
        "kfold_splits = 5"
      ],
      "execution_count": 0,
      "outputs": []
    },
    {
      "cell_type": "code",
      "metadata": {
        "id": "dBX5W02rl5sw",
        "colab_type": "code",
        "colab": {}
      },
      "source": [
        "grid = GridSearchCV(estimator=estimator,  \n",
        "                    n_jobs=1, \n",
        "                    verbose=1,\n",
        "                    return_train_score=True,\n",
        "                    cv=kfold_splits,  #StratifiedKFold(n_splits=kfold_splits, shuffle=True)\n",
        "                    param_grid=param_grid)"
      ],
      "execution_count": 0,
      "outputs": []
    },
    {
      "cell_type": "code",
      "metadata": {
        "id": "f4mU0SnfmFqC",
        "colab_type": "code",
        "colab": {
          "base_uri": "https://localhost:8080/",
          "height": 1000
        },
        "outputId": "5ba2819c-ffd3-4e15-ded6-1e77d475ef99"
      },
      "source": [
        "grid_result = grid.fit(X, y) #callbacks=[tbCallBack]"
      ],
      "execution_count": 48,
      "outputs": [
        {
          "output_type": "stream",
          "text": [
            "Fitting 5 folds for each of 360 candidates, totalling 1800 fits\n"
          ],
          "name": "stdout"
        },
        {
          "output_type": "stream",
          "text": [
            "[Parallel(n_jobs=1)]: Using backend SequentialBackend with 1 concurrent workers.\n"
          ],
          "name": "stderr"
        },
        {
          "output_type": "stream",
          "text": [
            "Train on 38400 samples\n",
            "38400/38400 [==============================] - 3s 71us/sample - loss: 0.9503 - acc: 0.6523\n",
            "9600/9600 [==============================] - 0s 36us/sample - loss: 0.5420 - acc: 0.8152\n",
            "38400/38400 [==============================] - 1s 32us/sample - loss: 0.5469 - acc: 0.8177\n",
            "Train on 38400 samples\n",
            "38400/38400 [==============================] - 3s 76us/sample - loss: 1.0223 - acc: 0.6091\n",
            "9600/9600 [==============================] - 0s 40us/sample - loss: 0.5950 - acc: 0.7875\n",
            "38400/38400 [==============================] - 1s 32us/sample - loss: 0.5828 - acc: 0.7966\n",
            "Train on 38400 samples\n",
            "38400/38400 [==============================] - 3s 74us/sample - loss: 0.9595 - acc: 0.6435\n",
            "9600/9600 [==============================] - 0s 39us/sample - loss: 0.5517 - acc: 0.8045\n",
            "38400/38400 [==============================] - 1s 32us/sample - loss: 0.5565 - acc: 0.8037\n",
            "Train on 38400 samples\n",
            "38400/38400 [==============================] - 3s 76us/sample - loss: 0.9680 - acc: 0.6405\n",
            "9600/9600 [==============================] - 0s 42us/sample - loss: 0.5885 - acc: 0.7934\n",
            "38400/38400 [==============================] - 1s 34us/sample - loss: 0.5600 - acc: 0.8012\n",
            "Train on 38400 samples\n",
            "38400/38400 [==============================] - 3s 79us/sample - loss: 0.9878 - acc: 0.6396\n",
            "9600/9600 [==============================] - 0s 44us/sample - loss: 0.5677 - acc: 0.8121\n",
            "38400/38400 [==============================] - 1s 34us/sample - loss: 0.5578 - acc: 0.8194\n",
            "Train on 38400 samples\n",
            "38400/38400 [==============================] - 3s 80us/sample - loss: 0.9791 - acc: 0.6343\n",
            "9600/9600 [==============================] - 0s 45us/sample - loss: 0.5737 - acc: 0.7880\n",
            "38400/38400 [==============================] - 1s 33us/sample - loss: 0.5772 - acc: 0.7900\n",
            "Train on 38400 samples\n",
            "38400/38400 [==============================] - 3s 83us/sample - loss: 0.9466 - acc: 0.6509\n",
            "9600/9600 [==============================] - 0s 49us/sample - loss: 0.5558 - acc: 0.8134\n",
            "38400/38400 [==============================] - 1s 36us/sample - loss: 0.5471 - acc: 0.8151\n",
            "Train on 38400 samples\n",
            "38400/38400 [==============================] - 3s 81us/sample - loss: 0.9917 - acc: 0.6210\n",
            "9600/9600 [==============================] - 0s 46us/sample - loss: 0.5332 - acc: 0.8021\n",
            "38400/38400 [==============================] - 1s 35us/sample - loss: 0.5429 - acc: 0.8011\n",
            "Train on 38400 samples\n",
            "38400/38400 [==============================] - 3s 78us/sample - loss: 0.9779 - acc: 0.6396\n",
            "9600/9600 [==============================] - 0s 49us/sample - loss: 0.5749 - acc: 0.8092\n",
            "38400/38400 [==============================] - 1s 38us/sample - loss: 0.5475 - acc: 0.8186\n",
            "Train on 38400 samples\n",
            "38400/38400 [==============================] - 3s 85us/sample - loss: 0.9423 - acc: 0.6395\n",
            "9600/9600 [==============================] - 1s 53us/sample - loss: 0.5755 - acc: 0.7901\n",
            "38400/38400 [==============================] - 1s 38us/sample - loss: 0.5688 - acc: 0.7958\n",
            "Train on 38400 samples\n",
            "38400/38400 [==============================] - 3s 84us/sample - loss: 0.9697 - acc: 0.6428\n",
            "9600/9600 [==============================] - 0s 51us/sample - loss: 0.5430 - acc: 0.8171\n",
            "38400/38400 [==============================] - 1s 38us/sample - loss: 0.5528 - acc: 0.8120\n",
            "Train on 38400 samples\n",
            "38400/38400 [==============================] - 3s 81us/sample - loss: 0.9324 - acc: 0.6562\n",
            "9600/9600 [==============================] - 1s 54us/sample - loss: 0.5431 - acc: 0.8160\n",
            "38400/38400 [==============================] - 1s 39us/sample - loss: 0.5302 - acc: 0.8175\n",
            "Train on 38400 samples\n",
            "38400/38400 [==============================] - 3s 86us/sample - loss: 1.0284 - acc: 0.6201\n",
            "9600/9600 [==============================] - 1s 56us/sample - loss: 0.5872 - acc: 0.8144\n",
            "38400/38400 [==============================] - 2s 40us/sample - loss: 0.5938 - acc: 0.8112\n",
            "Train on 38400 samples\n",
            "38400/38400 [==============================] - 3s 89us/sample - loss: 1.0100 - acc: 0.6228\n",
            "9600/9600 [==============================] - 1s 58us/sample - loss: 0.5990 - acc: 0.7782\n",
            "38400/38400 [==============================] - 2s 43us/sample - loss: 0.5754 - acc: 0.7856\n",
            "Train on 38400 samples\n",
            "38400/38400 [==============================] - 3s 89us/sample - loss: 0.9544 - acc: 0.6475\n",
            "9600/9600 [==============================] - 1s 57us/sample - loss: 0.5493 - acc: 0.8102\n",
            "38400/38400 [==============================] - 2s 41us/sample - loss: 0.5399 - acc: 0.8164\n",
            "Train on 38400 samples\n",
            "38400/38400 [==============================] - 4s 92us/sample - loss: 0.8868 - acc: 0.6724\n",
            "9600/9600 [==============================] - 1s 63us/sample - loss: 0.5323 - acc: 0.8023\n",
            "38400/38400 [==============================] - 2s 44us/sample - loss: 0.5416 - acc: 0.7990\n",
            "Train on 38400 samples\n",
            "38400/38400 [==============================] - 4s 96us/sample - loss: 0.8697 - acc: 0.6866\n",
            "9600/9600 [==============================] - 1s 61us/sample - loss: 0.5161 - acc: 0.8254\n",
            "38400/38400 [==============================] - 2s 42us/sample - loss: 0.5061 - acc: 0.8284\n",
            "Train on 38400 samples\n",
            "38400/38400 [==============================] - 4s 97us/sample - loss: 0.8768 - acc: 0.6778\n",
            "9600/9600 [==============================] - 1s 63us/sample - loss: 0.5273 - acc: 0.8211\n",
            "38400/38400 [==============================] - 2s 45us/sample - loss: 0.5351 - acc: 0.8207\n",
            "Train on 38400 samples\n",
            "38400/38400 [==============================] - 4s 101us/sample - loss: 0.8925 - acc: 0.6699\n",
            "9600/9600 [==============================] - 1s 66us/sample - loss: 0.5491 - acc: 0.8109\n",
            "38400/38400 [==============================] - 2s 46us/sample - loss: 0.5202 - acc: 0.8171\n",
            "Train on 38400 samples\n",
            "38400/38400 [==============================] - 4s 99us/sample - loss: 0.8453 - acc: 0.6923\n",
            "9600/9600 [==============================] - 1s 66us/sample - loss: 0.5189 - acc: 0.8140\n",
            "38400/38400 [==============================] - 2s 46us/sample - loss: 0.5035 - acc: 0.8165\n",
            "Train on 38400 samples\n",
            "38400/38400 [==============================] - 4s 98us/sample - loss: 0.8901 - acc: 0.6726\n",
            "9600/9600 [==============================] - 1s 68us/sample - loss: 0.5200 - acc: 0.8205\n",
            "38400/38400 [==============================] - 2s 47us/sample - loss: 0.5282 - acc: 0.8186\n",
            "Train on 38400 samples\n",
            "38400/38400 [==============================] - 4s 99us/sample - loss: 0.9064 - acc: 0.6627\n",
            "9600/9600 [==============================] - 1s 73us/sample - loss: 0.5410 - acc: 0.8098\n",
            "38400/38400 [==============================] - 2s 50us/sample - loss: 0.5232 - acc: 0.8151\n",
            "Train on 38400 samples\n",
            "38400/38400 [==============================] - 4s 103us/sample - loss: 0.8180 - acc: 0.7043\n",
            "9600/9600 [==============================] - 1s 74us/sample - loss: 0.4919 - acc: 0.8232\n",
            "38400/38400 [==============================] - 2s 48us/sample - loss: 0.4916 - acc: 0.8241\n",
            "Train on 38400 samples\n",
            "38400/38400 [==============================] - 4s 104us/sample - loss: 0.8380 - acc: 0.7011\n",
            "9600/9600 [==============================] - 1s 71us/sample - loss: 0.5136 - acc: 0.8218\n",
            "38400/38400 [==============================] - 2s 47us/sample - loss: 0.4897 - acc: 0.8291\n",
            "Train on 38400 samples\n",
            "38400/38400 [==============================] - 4s 102us/sample - loss: 0.8790 - acc: 0.6809\n",
            "9600/9600 [==============================] - 1s 74us/sample - loss: 0.4978 - acc: 0.8255\n",
            "38400/38400 [==============================] - 2s 50us/sample - loss: 0.4923 - acc: 0.8241\n",
            "Train on 38400 samples\n",
            "38400/38400 [==============================] - 4s 110us/sample - loss: 0.8839 - acc: 0.6748\n",
            "9600/9600 [==============================] - 1s 77us/sample - loss: 0.5216 - acc: 0.8111\n",
            "38400/38400 [==============================] - 2s 53us/sample - loss: 0.5230 - acc: 0.8099\n",
            "Train on 38400 samples\n",
            "38400/38400 [==============================] - 4s 113us/sample - loss: 0.8924 - acc: 0.6742\n",
            "9600/9600 [==============================] - 1s 83us/sample - loss: 0.5404 - acc: 0.8099\n",
            "38400/38400 [==============================] - 2s 53us/sample - loss: 0.5244 - acc: 0.8158\n",
            "Train on 38400 samples\n",
            "38400/38400 [==============================] - 4s 111us/sample - loss: 0.8769 - acc: 0.6788\n",
            "9600/9600 [==============================] - 1s 82us/sample - loss: 0.5132 - acc: 0.8168\n",
            "38400/38400 [==============================] - 2s 58us/sample - loss: 0.5158 - acc: 0.8157\n",
            "Train on 38400 samples\n",
            "38400/38400 [==============================] - 5s 131us/sample - loss: 0.8959 - acc: 0.6720\n",
            "9600/9600 [==============================] - 1s 97us/sample - loss: 0.5466 - acc: 0.8184\n",
            "38400/38400 [==============================] - 2s 58us/sample - loss: 0.5203 - acc: 0.8261\n",
            "Train on 38400 samples\n",
            "38400/38400 [==============================] - 4s 115us/sample - loss: 0.8896 - acc: 0.6689\n",
            "9600/9600 [==============================] - 1s 85us/sample - loss: 0.5300 - acc: 0.8084\n",
            "38400/38400 [==============================] - 2s 54us/sample - loss: 0.5244 - acc: 0.8115\n",
            "Train on 38400 samples\n",
            "38400/38400 [==============================] - 4s 113us/sample - loss: 0.8078 - acc: 0.7106\n",
            "9600/9600 [==============================] - 1s 87us/sample - loss: 0.4866 - acc: 0.8206\n",
            "38400/38400 [==============================] - 2s 54us/sample - loss: 0.4857 - acc: 0.8224\n",
            "Train on 38400 samples\n",
            "38400/38400 [==============================] - 5s 120us/sample - loss: 0.7885 - acc: 0.7186\n",
            "9600/9600 [==============================] - 1s 94us/sample - loss: 0.5178 - acc: 0.8164\n",
            "38400/38400 [==============================] - 2s 58us/sample - loss: 0.5007 - acc: 0.8212\n",
            "Train on 38400 samples\n",
            "38400/38400 [==============================] - 4s 116us/sample - loss: 0.8006 - acc: 0.7167\n",
            "9600/9600 [==============================] - 1s 92us/sample - loss: 0.4796 - acc: 0.8259\n",
            "38400/38400 [==============================] - 2s 59us/sample - loss: 0.4877 - acc: 0.8245\n",
            "Train on 38400 samples\n",
            "38400/38400 [==============================] - 5s 119us/sample - loss: 0.7873 - acc: 0.7205\n",
            "9600/9600 [==============================] - 1s 90us/sample - loss: 0.5157 - acc: 0.8136\n",
            "38400/38400 [==============================] - 2s 60us/sample - loss: 0.4889 - acc: 0.8227\n",
            "Train on 38400 samples\n",
            "38400/38400 [==============================] - 5s 126us/sample - loss: 0.8044 - acc: 0.7073\n",
            "9600/9600 [==============================] - 1s 92us/sample - loss: 0.4949 - acc: 0.8270\n",
            "38400/38400 [==============================] - 2s 61us/sample - loss: 0.4869 - acc: 0.8293\n",
            "Train on 38400 samples\n",
            "38400/38400 [==============================] - 5s 127us/sample - loss: 0.8193 - acc: 0.7059\n",
            "9600/9600 [==============================] - 1s 99us/sample - loss: 0.4903 - acc: 0.8217\n",
            "38400/38400 [==============================] - 3s 66us/sample - loss: 0.4941 - acc: 0.8234\n",
            "Train on 38400 samples\n",
            "38400/38400 [==============================] - 5s 130us/sample - loss: 0.7860 - acc: 0.7138\n",
            "9600/9600 [==============================] - 1s 95us/sample - loss: 0.5109 - acc: 0.8205\n",
            "38400/38400 [==============================] - 3s 68us/sample - loss: 0.4974 - acc: 0.8193\n",
            "Train on 38400 samples\n",
            "33792/38400 [=========================>....] - ETA: 0s - loss: 0.7992 - acc: 0.7118"
          ],
          "name": "stdout"
        },
        {
          "output_type": "error",
          "ename": "KeyboardInterrupt",
          "evalue": "ignored",
          "traceback": [
            "\u001b[0;31m---------------------------------------------------------------------------\u001b[0m",
            "\u001b[0;31mKeyboardInterrupt\u001b[0m                         Traceback (most recent call last)",
            "\u001b[0;32m<ipython-input-48-aee61a82fc3e>\u001b[0m in \u001b[0;36m<module>\u001b[0;34m()\u001b[0m\n\u001b[0;32m----> 1\u001b[0;31m \u001b[0mgrid_result\u001b[0m \u001b[0;34m=\u001b[0m \u001b[0mgrid\u001b[0m\u001b[0;34m.\u001b[0m\u001b[0mfit\u001b[0m\u001b[0;34m(\u001b[0m\u001b[0mX\u001b[0m\u001b[0;34m,\u001b[0m \u001b[0my\u001b[0m\u001b[0;34m)\u001b[0m \u001b[0;31m#callbacks=[tbCallBack]\u001b[0m\u001b[0;34m\u001b[0m\u001b[0;34m\u001b[0m\u001b[0m\n\u001b[0m",
            "\u001b[0;32m/usr/local/lib/python3.6/dist-packages/sklearn/model_selection/_search.py\u001b[0m in \u001b[0;36mfit\u001b[0;34m(self, X, y, groups, **fit_params)\u001b[0m\n\u001b[1;32m    708\u001b[0m                 \u001b[0;32mreturn\u001b[0m \u001b[0mresults\u001b[0m\u001b[0;34m\u001b[0m\u001b[0;34m\u001b[0m\u001b[0m\n\u001b[1;32m    709\u001b[0m \u001b[0;34m\u001b[0m\u001b[0m\n\u001b[0;32m--> 710\u001b[0;31m             \u001b[0mself\u001b[0m\u001b[0;34m.\u001b[0m\u001b[0m_run_search\u001b[0m\u001b[0;34m(\u001b[0m\u001b[0mevaluate_candidates\u001b[0m\u001b[0;34m)\u001b[0m\u001b[0;34m\u001b[0m\u001b[0;34m\u001b[0m\u001b[0m\n\u001b[0m\u001b[1;32m    711\u001b[0m \u001b[0;34m\u001b[0m\u001b[0m\n\u001b[1;32m    712\u001b[0m         \u001b[0;31m# For multi-metric evaluation, store the best_index_, best_params_ and\u001b[0m\u001b[0;34m\u001b[0m\u001b[0;34m\u001b[0m\u001b[0;34m\u001b[0m\u001b[0m\n",
            "\u001b[0;32m/usr/local/lib/python3.6/dist-packages/sklearn/model_selection/_search.py\u001b[0m in \u001b[0;36m_run_search\u001b[0;34m(self, evaluate_candidates)\u001b[0m\n\u001b[1;32m   1149\u001b[0m     \u001b[0;32mdef\u001b[0m \u001b[0m_run_search\u001b[0m\u001b[0;34m(\u001b[0m\u001b[0mself\u001b[0m\u001b[0;34m,\u001b[0m \u001b[0mevaluate_candidates\u001b[0m\u001b[0;34m)\u001b[0m\u001b[0;34m:\u001b[0m\u001b[0;34m\u001b[0m\u001b[0;34m\u001b[0m\u001b[0m\n\u001b[1;32m   1150\u001b[0m         \u001b[0;34m\"\"\"Search all candidates in param_grid\"\"\"\u001b[0m\u001b[0;34m\u001b[0m\u001b[0;34m\u001b[0m\u001b[0m\n\u001b[0;32m-> 1151\u001b[0;31m         \u001b[0mevaluate_candidates\u001b[0m\u001b[0;34m(\u001b[0m\u001b[0mParameterGrid\u001b[0m\u001b[0;34m(\u001b[0m\u001b[0mself\u001b[0m\u001b[0;34m.\u001b[0m\u001b[0mparam_grid\u001b[0m\u001b[0;34m)\u001b[0m\u001b[0;34m)\u001b[0m\u001b[0;34m\u001b[0m\u001b[0;34m\u001b[0m\u001b[0m\n\u001b[0m\u001b[1;32m   1152\u001b[0m \u001b[0;34m\u001b[0m\u001b[0m\n\u001b[1;32m   1153\u001b[0m \u001b[0;34m\u001b[0m\u001b[0m\n",
            "\u001b[0;32m/usr/local/lib/python3.6/dist-packages/sklearn/model_selection/_search.py\u001b[0m in \u001b[0;36mevaluate_candidates\u001b[0;34m(candidate_params)\u001b[0m\n\u001b[1;32m    687\u001b[0m                                \u001b[0;32mfor\u001b[0m \u001b[0mparameters\u001b[0m\u001b[0;34m,\u001b[0m \u001b[0;34m(\u001b[0m\u001b[0mtrain\u001b[0m\u001b[0;34m,\u001b[0m \u001b[0mtest\u001b[0m\u001b[0;34m)\u001b[0m\u001b[0;34m\u001b[0m\u001b[0;34m\u001b[0m\u001b[0m\n\u001b[1;32m    688\u001b[0m                                in product(candidate_params,\n\u001b[0;32m--> 689\u001b[0;31m                                           cv.split(X, y, groups)))\n\u001b[0m\u001b[1;32m    690\u001b[0m \u001b[0;34m\u001b[0m\u001b[0m\n\u001b[1;32m    691\u001b[0m                 \u001b[0;32mif\u001b[0m \u001b[0mlen\u001b[0m\u001b[0;34m(\u001b[0m\u001b[0mout\u001b[0m\u001b[0;34m)\u001b[0m \u001b[0;34m<\u001b[0m \u001b[0;36m1\u001b[0m\u001b[0;34m:\u001b[0m\u001b[0;34m\u001b[0m\u001b[0;34m\u001b[0m\u001b[0m\n",
            "\u001b[0;32m/usr/local/lib/python3.6/dist-packages/joblib/parallel.py\u001b[0m in \u001b[0;36m__call__\u001b[0;34m(self, iterable)\u001b[0m\n\u001b[1;32m   1005\u001b[0m                 \u001b[0mself\u001b[0m\u001b[0;34m.\u001b[0m\u001b[0m_iterating\u001b[0m \u001b[0;34m=\u001b[0m \u001b[0mself\u001b[0m\u001b[0;34m.\u001b[0m\u001b[0m_original_iterator\u001b[0m \u001b[0;32mis\u001b[0m \u001b[0;32mnot\u001b[0m \u001b[0;32mNone\u001b[0m\u001b[0;34m\u001b[0m\u001b[0;34m\u001b[0m\u001b[0m\n\u001b[1;32m   1006\u001b[0m \u001b[0;34m\u001b[0m\u001b[0m\n\u001b[0;32m-> 1007\u001b[0;31m             \u001b[0;32mwhile\u001b[0m \u001b[0mself\u001b[0m\u001b[0;34m.\u001b[0m\u001b[0mdispatch_one_batch\u001b[0m\u001b[0;34m(\u001b[0m\u001b[0miterator\u001b[0m\u001b[0;34m)\u001b[0m\u001b[0;34m:\u001b[0m\u001b[0;34m\u001b[0m\u001b[0;34m\u001b[0m\u001b[0m\n\u001b[0m\u001b[1;32m   1008\u001b[0m                 \u001b[0;32mpass\u001b[0m\u001b[0;34m\u001b[0m\u001b[0;34m\u001b[0m\u001b[0m\n\u001b[1;32m   1009\u001b[0m \u001b[0;34m\u001b[0m\u001b[0m\n",
            "\u001b[0;32m/usr/local/lib/python3.6/dist-packages/joblib/parallel.py\u001b[0m in \u001b[0;36mdispatch_one_batch\u001b[0;34m(self, iterator)\u001b[0m\n\u001b[1;32m    833\u001b[0m                 \u001b[0;32mreturn\u001b[0m \u001b[0;32mFalse\u001b[0m\u001b[0;34m\u001b[0m\u001b[0;34m\u001b[0m\u001b[0m\n\u001b[1;32m    834\u001b[0m             \u001b[0;32melse\u001b[0m\u001b[0;34m:\u001b[0m\u001b[0;34m\u001b[0m\u001b[0;34m\u001b[0m\u001b[0m\n\u001b[0;32m--> 835\u001b[0;31m                 \u001b[0mself\u001b[0m\u001b[0;34m.\u001b[0m\u001b[0m_dispatch\u001b[0m\u001b[0;34m(\u001b[0m\u001b[0mtasks\u001b[0m\u001b[0;34m)\u001b[0m\u001b[0;34m\u001b[0m\u001b[0;34m\u001b[0m\u001b[0m\n\u001b[0m\u001b[1;32m    836\u001b[0m                 \u001b[0;32mreturn\u001b[0m \u001b[0;32mTrue\u001b[0m\u001b[0;34m\u001b[0m\u001b[0;34m\u001b[0m\u001b[0m\n\u001b[1;32m    837\u001b[0m \u001b[0;34m\u001b[0m\u001b[0m\n",
            "\u001b[0;32m/usr/local/lib/python3.6/dist-packages/joblib/parallel.py\u001b[0m in \u001b[0;36m_dispatch\u001b[0;34m(self, batch)\u001b[0m\n\u001b[1;32m    752\u001b[0m         \u001b[0;32mwith\u001b[0m \u001b[0mself\u001b[0m\u001b[0;34m.\u001b[0m\u001b[0m_lock\u001b[0m\u001b[0;34m:\u001b[0m\u001b[0;34m\u001b[0m\u001b[0;34m\u001b[0m\u001b[0m\n\u001b[1;32m    753\u001b[0m             \u001b[0mjob_idx\u001b[0m \u001b[0;34m=\u001b[0m \u001b[0mlen\u001b[0m\u001b[0;34m(\u001b[0m\u001b[0mself\u001b[0m\u001b[0;34m.\u001b[0m\u001b[0m_jobs\u001b[0m\u001b[0;34m)\u001b[0m\u001b[0;34m\u001b[0m\u001b[0;34m\u001b[0m\u001b[0m\n\u001b[0;32m--> 754\u001b[0;31m             \u001b[0mjob\u001b[0m \u001b[0;34m=\u001b[0m \u001b[0mself\u001b[0m\u001b[0;34m.\u001b[0m\u001b[0m_backend\u001b[0m\u001b[0;34m.\u001b[0m\u001b[0mapply_async\u001b[0m\u001b[0;34m(\u001b[0m\u001b[0mbatch\u001b[0m\u001b[0;34m,\u001b[0m \u001b[0mcallback\u001b[0m\u001b[0;34m=\u001b[0m\u001b[0mcb\u001b[0m\u001b[0;34m)\u001b[0m\u001b[0;34m\u001b[0m\u001b[0;34m\u001b[0m\u001b[0m\n\u001b[0m\u001b[1;32m    755\u001b[0m             \u001b[0;31m# A job can complete so quickly than its callback is\u001b[0m\u001b[0;34m\u001b[0m\u001b[0;34m\u001b[0m\u001b[0;34m\u001b[0m\u001b[0m\n\u001b[1;32m    756\u001b[0m             \u001b[0;31m# called before we get here, causing self._jobs to\u001b[0m\u001b[0;34m\u001b[0m\u001b[0;34m\u001b[0m\u001b[0;34m\u001b[0m\u001b[0m\n",
            "\u001b[0;32m/usr/local/lib/python3.6/dist-packages/joblib/_parallel_backends.py\u001b[0m in \u001b[0;36mapply_async\u001b[0;34m(self, func, callback)\u001b[0m\n\u001b[1;32m    207\u001b[0m     \u001b[0;32mdef\u001b[0m \u001b[0mapply_async\u001b[0m\u001b[0;34m(\u001b[0m\u001b[0mself\u001b[0m\u001b[0;34m,\u001b[0m \u001b[0mfunc\u001b[0m\u001b[0;34m,\u001b[0m \u001b[0mcallback\u001b[0m\u001b[0;34m=\u001b[0m\u001b[0;32mNone\u001b[0m\u001b[0;34m)\u001b[0m\u001b[0;34m:\u001b[0m\u001b[0;34m\u001b[0m\u001b[0;34m\u001b[0m\u001b[0m\n\u001b[1;32m    208\u001b[0m         \u001b[0;34m\"\"\"Schedule a func to be run\"\"\"\u001b[0m\u001b[0;34m\u001b[0m\u001b[0;34m\u001b[0m\u001b[0m\n\u001b[0;32m--> 209\u001b[0;31m         \u001b[0mresult\u001b[0m \u001b[0;34m=\u001b[0m \u001b[0mImmediateResult\u001b[0m\u001b[0;34m(\u001b[0m\u001b[0mfunc\u001b[0m\u001b[0;34m)\u001b[0m\u001b[0;34m\u001b[0m\u001b[0;34m\u001b[0m\u001b[0m\n\u001b[0m\u001b[1;32m    210\u001b[0m         \u001b[0;32mif\u001b[0m \u001b[0mcallback\u001b[0m\u001b[0;34m:\u001b[0m\u001b[0;34m\u001b[0m\u001b[0;34m\u001b[0m\u001b[0m\n\u001b[1;32m    211\u001b[0m             \u001b[0mcallback\u001b[0m\u001b[0;34m(\u001b[0m\u001b[0mresult\u001b[0m\u001b[0;34m)\u001b[0m\u001b[0;34m\u001b[0m\u001b[0;34m\u001b[0m\u001b[0m\n",
            "\u001b[0;32m/usr/local/lib/python3.6/dist-packages/joblib/_parallel_backends.py\u001b[0m in \u001b[0;36m__init__\u001b[0;34m(self, batch)\u001b[0m\n\u001b[1;32m    588\u001b[0m         \u001b[0;31m# Don't delay the application, to avoid keeping the input\u001b[0m\u001b[0;34m\u001b[0m\u001b[0;34m\u001b[0m\u001b[0;34m\u001b[0m\u001b[0m\n\u001b[1;32m    589\u001b[0m         \u001b[0;31m# arguments in memory\u001b[0m\u001b[0;34m\u001b[0m\u001b[0;34m\u001b[0m\u001b[0;34m\u001b[0m\u001b[0m\n\u001b[0;32m--> 590\u001b[0;31m         \u001b[0mself\u001b[0m\u001b[0;34m.\u001b[0m\u001b[0mresults\u001b[0m \u001b[0;34m=\u001b[0m \u001b[0mbatch\u001b[0m\u001b[0;34m(\u001b[0m\u001b[0;34m)\u001b[0m\u001b[0;34m\u001b[0m\u001b[0;34m\u001b[0m\u001b[0m\n\u001b[0m\u001b[1;32m    591\u001b[0m \u001b[0;34m\u001b[0m\u001b[0m\n\u001b[1;32m    592\u001b[0m     \u001b[0;32mdef\u001b[0m \u001b[0mget\u001b[0m\u001b[0;34m(\u001b[0m\u001b[0mself\u001b[0m\u001b[0;34m)\u001b[0m\u001b[0;34m:\u001b[0m\u001b[0;34m\u001b[0m\u001b[0;34m\u001b[0m\u001b[0m\n",
            "\u001b[0;32m/usr/local/lib/python3.6/dist-packages/joblib/parallel.py\u001b[0m in \u001b[0;36m__call__\u001b[0;34m(self)\u001b[0m\n\u001b[1;32m    254\u001b[0m         \u001b[0;32mwith\u001b[0m \u001b[0mparallel_backend\u001b[0m\u001b[0;34m(\u001b[0m\u001b[0mself\u001b[0m\u001b[0;34m.\u001b[0m\u001b[0m_backend\u001b[0m\u001b[0;34m,\u001b[0m \u001b[0mn_jobs\u001b[0m\u001b[0;34m=\u001b[0m\u001b[0mself\u001b[0m\u001b[0;34m.\u001b[0m\u001b[0m_n_jobs\u001b[0m\u001b[0;34m)\u001b[0m\u001b[0;34m:\u001b[0m\u001b[0;34m\u001b[0m\u001b[0;34m\u001b[0m\u001b[0m\n\u001b[1;32m    255\u001b[0m             return [func(*args, **kwargs)\n\u001b[0;32m--> 256\u001b[0;31m                     for func, args, kwargs in self.items]\n\u001b[0m\u001b[1;32m    257\u001b[0m \u001b[0;34m\u001b[0m\u001b[0m\n\u001b[1;32m    258\u001b[0m     \u001b[0;32mdef\u001b[0m \u001b[0m__len__\u001b[0m\u001b[0;34m(\u001b[0m\u001b[0mself\u001b[0m\u001b[0;34m)\u001b[0m\u001b[0;34m:\u001b[0m\u001b[0;34m\u001b[0m\u001b[0;34m\u001b[0m\u001b[0m\n",
            "\u001b[0;32m/usr/local/lib/python3.6/dist-packages/joblib/parallel.py\u001b[0m in \u001b[0;36m<listcomp>\u001b[0;34m(.0)\u001b[0m\n\u001b[1;32m    254\u001b[0m         \u001b[0;32mwith\u001b[0m \u001b[0mparallel_backend\u001b[0m\u001b[0;34m(\u001b[0m\u001b[0mself\u001b[0m\u001b[0;34m.\u001b[0m\u001b[0m_backend\u001b[0m\u001b[0;34m,\u001b[0m \u001b[0mn_jobs\u001b[0m\u001b[0;34m=\u001b[0m\u001b[0mself\u001b[0m\u001b[0;34m.\u001b[0m\u001b[0m_n_jobs\u001b[0m\u001b[0;34m)\u001b[0m\u001b[0;34m:\u001b[0m\u001b[0;34m\u001b[0m\u001b[0;34m\u001b[0m\u001b[0m\n\u001b[1;32m    255\u001b[0m             return [func(*args, **kwargs)\n\u001b[0;32m--> 256\u001b[0;31m                     for func, args, kwargs in self.items]\n\u001b[0m\u001b[1;32m    257\u001b[0m \u001b[0;34m\u001b[0m\u001b[0m\n\u001b[1;32m    258\u001b[0m     \u001b[0;32mdef\u001b[0m \u001b[0m__len__\u001b[0m\u001b[0;34m(\u001b[0m\u001b[0mself\u001b[0m\u001b[0;34m)\u001b[0m\u001b[0;34m:\u001b[0m\u001b[0;34m\u001b[0m\u001b[0;34m\u001b[0m\u001b[0m\n",
            "\u001b[0;32m/usr/local/lib/python3.6/dist-packages/sklearn/model_selection/_validation.py\u001b[0m in \u001b[0;36m_fit_and_score\u001b[0;34m(estimator, X, y, scorer, train, test, verbose, parameters, fit_params, return_train_score, return_parameters, return_n_test_samples, return_times, return_estimator, error_score)\u001b[0m\n\u001b[1;32m    513\u001b[0m             \u001b[0mestimator\u001b[0m\u001b[0;34m.\u001b[0m\u001b[0mfit\u001b[0m\u001b[0;34m(\u001b[0m\u001b[0mX_train\u001b[0m\u001b[0;34m,\u001b[0m \u001b[0;34m**\u001b[0m\u001b[0mfit_params\u001b[0m\u001b[0;34m)\u001b[0m\u001b[0;34m\u001b[0m\u001b[0;34m\u001b[0m\u001b[0m\n\u001b[1;32m    514\u001b[0m         \u001b[0;32melse\u001b[0m\u001b[0;34m:\u001b[0m\u001b[0;34m\u001b[0m\u001b[0;34m\u001b[0m\u001b[0m\n\u001b[0;32m--> 515\u001b[0;31m             \u001b[0mestimator\u001b[0m\u001b[0;34m.\u001b[0m\u001b[0mfit\u001b[0m\u001b[0;34m(\u001b[0m\u001b[0mX_train\u001b[0m\u001b[0;34m,\u001b[0m \u001b[0my_train\u001b[0m\u001b[0;34m,\u001b[0m \u001b[0;34m**\u001b[0m\u001b[0mfit_params\u001b[0m\u001b[0;34m)\u001b[0m\u001b[0;34m\u001b[0m\u001b[0;34m\u001b[0m\u001b[0m\n\u001b[0m\u001b[1;32m    516\u001b[0m \u001b[0;34m\u001b[0m\u001b[0m\n\u001b[1;32m    517\u001b[0m     \u001b[0;32mexcept\u001b[0m \u001b[0mException\u001b[0m \u001b[0;32mas\u001b[0m \u001b[0me\u001b[0m\u001b[0;34m:\u001b[0m\u001b[0;34m\u001b[0m\u001b[0;34m\u001b[0m\u001b[0m\n",
            "\u001b[0;32m/usr/local/lib/python3.6/dist-packages/sklearn/pipeline.py\u001b[0m in \u001b[0;36mfit\u001b[0;34m(self, X, y, **fit_params)\u001b[0m\n\u001b[1;32m    352\u001b[0m                                  self._log_message(len(self.steps) - 1)):\n\u001b[1;32m    353\u001b[0m             \u001b[0;32mif\u001b[0m \u001b[0mself\u001b[0m\u001b[0;34m.\u001b[0m\u001b[0m_final_estimator\u001b[0m \u001b[0;34m!=\u001b[0m \u001b[0;34m'passthrough'\u001b[0m\u001b[0;34m:\u001b[0m\u001b[0;34m\u001b[0m\u001b[0;34m\u001b[0m\u001b[0m\n\u001b[0;32m--> 354\u001b[0;31m                 \u001b[0mself\u001b[0m\u001b[0;34m.\u001b[0m\u001b[0m_final_estimator\u001b[0m\u001b[0;34m.\u001b[0m\u001b[0mfit\u001b[0m\u001b[0;34m(\u001b[0m\u001b[0mXt\u001b[0m\u001b[0;34m,\u001b[0m \u001b[0my\u001b[0m\u001b[0;34m,\u001b[0m \u001b[0;34m**\u001b[0m\u001b[0mfit_params\u001b[0m\u001b[0;34m)\u001b[0m\u001b[0;34m\u001b[0m\u001b[0;34m\u001b[0m\u001b[0m\n\u001b[0m\u001b[1;32m    355\u001b[0m         \u001b[0;32mreturn\u001b[0m \u001b[0mself\u001b[0m\u001b[0;34m\u001b[0m\u001b[0;34m\u001b[0m\u001b[0m\n\u001b[1;32m    356\u001b[0m \u001b[0;34m\u001b[0m\u001b[0m\n",
            "\u001b[0;32m/usr/local/lib/python3.6/dist-packages/keras/wrappers/scikit_learn.py\u001b[0m in \u001b[0;36mfit\u001b[0;34m(self, x, y, sample_weight, **kwargs)\u001b[0m\n\u001b[1;32m    208\u001b[0m         \u001b[0;32mif\u001b[0m \u001b[0msample_weight\u001b[0m \u001b[0;32mis\u001b[0m \u001b[0;32mnot\u001b[0m \u001b[0;32mNone\u001b[0m\u001b[0;34m:\u001b[0m\u001b[0;34m\u001b[0m\u001b[0;34m\u001b[0m\u001b[0m\n\u001b[1;32m    209\u001b[0m             \u001b[0mkwargs\u001b[0m\u001b[0;34m[\u001b[0m\u001b[0;34m'sample_weight'\u001b[0m\u001b[0;34m]\u001b[0m \u001b[0;34m=\u001b[0m \u001b[0msample_weight\u001b[0m\u001b[0;34m\u001b[0m\u001b[0;34m\u001b[0m\u001b[0m\n\u001b[0;32m--> 210\u001b[0;31m         \u001b[0;32mreturn\u001b[0m \u001b[0msuper\u001b[0m\u001b[0;34m(\u001b[0m\u001b[0mKerasClassifier\u001b[0m\u001b[0;34m,\u001b[0m \u001b[0mself\u001b[0m\u001b[0;34m)\u001b[0m\u001b[0;34m.\u001b[0m\u001b[0mfit\u001b[0m\u001b[0;34m(\u001b[0m\u001b[0mx\u001b[0m\u001b[0;34m,\u001b[0m \u001b[0my\u001b[0m\u001b[0;34m,\u001b[0m \u001b[0;34m**\u001b[0m\u001b[0mkwargs\u001b[0m\u001b[0;34m)\u001b[0m\u001b[0;34m\u001b[0m\u001b[0;34m\u001b[0m\u001b[0m\n\u001b[0m\u001b[1;32m    211\u001b[0m \u001b[0;34m\u001b[0m\u001b[0m\n\u001b[1;32m    212\u001b[0m     \u001b[0;32mdef\u001b[0m \u001b[0mpredict\u001b[0m\u001b[0;34m(\u001b[0m\u001b[0mself\u001b[0m\u001b[0;34m,\u001b[0m \u001b[0mx\u001b[0m\u001b[0;34m,\u001b[0m \u001b[0;34m**\u001b[0m\u001b[0mkwargs\u001b[0m\u001b[0;34m)\u001b[0m\u001b[0;34m:\u001b[0m\u001b[0;34m\u001b[0m\u001b[0;34m\u001b[0m\u001b[0m\n",
            "\u001b[0;32m/usr/local/lib/python3.6/dist-packages/keras/wrappers/scikit_learn.py\u001b[0m in \u001b[0;36mfit\u001b[0;34m(self, x, y, **kwargs)\u001b[0m\n\u001b[1;32m    150\u001b[0m         \u001b[0mfit_args\u001b[0m\u001b[0;34m.\u001b[0m\u001b[0mupdate\u001b[0m\u001b[0;34m(\u001b[0m\u001b[0mkwargs\u001b[0m\u001b[0;34m)\u001b[0m\u001b[0;34m\u001b[0m\u001b[0;34m\u001b[0m\u001b[0m\n\u001b[1;32m    151\u001b[0m \u001b[0;34m\u001b[0m\u001b[0m\n\u001b[0;32m--> 152\u001b[0;31m         \u001b[0mhistory\u001b[0m \u001b[0;34m=\u001b[0m \u001b[0mself\u001b[0m\u001b[0;34m.\u001b[0m\u001b[0mmodel\u001b[0m\u001b[0;34m.\u001b[0m\u001b[0mfit\u001b[0m\u001b[0;34m(\u001b[0m\u001b[0mx\u001b[0m\u001b[0;34m,\u001b[0m \u001b[0my\u001b[0m\u001b[0;34m,\u001b[0m \u001b[0;34m**\u001b[0m\u001b[0mfit_args\u001b[0m\u001b[0;34m)\u001b[0m\u001b[0;34m\u001b[0m\u001b[0;34m\u001b[0m\u001b[0m\n\u001b[0m\u001b[1;32m    153\u001b[0m \u001b[0;34m\u001b[0m\u001b[0m\n\u001b[1;32m    154\u001b[0m         \u001b[0;32mreturn\u001b[0m \u001b[0mhistory\u001b[0m\u001b[0;34m\u001b[0m\u001b[0;34m\u001b[0m\u001b[0m\n",
            "\u001b[0;32m/usr/local/lib/python3.6/dist-packages/tensorflow_core/python/keras/engine/training.py\u001b[0m in \u001b[0;36mfit\u001b[0;34m(self, x, y, batch_size, epochs, verbose, callbacks, validation_split, validation_data, shuffle, class_weight, sample_weight, initial_epoch, steps_per_epoch, validation_steps, validation_freq, max_queue_size, workers, use_multiprocessing, **kwargs)\u001b[0m\n\u001b[1;32m    725\u001b[0m         \u001b[0mmax_queue_size\u001b[0m\u001b[0;34m=\u001b[0m\u001b[0mmax_queue_size\u001b[0m\u001b[0;34m,\u001b[0m\u001b[0;34m\u001b[0m\u001b[0;34m\u001b[0m\u001b[0m\n\u001b[1;32m    726\u001b[0m         \u001b[0mworkers\u001b[0m\u001b[0;34m=\u001b[0m\u001b[0mworkers\u001b[0m\u001b[0;34m,\u001b[0m\u001b[0;34m\u001b[0m\u001b[0;34m\u001b[0m\u001b[0m\n\u001b[0;32m--> 727\u001b[0;31m         use_multiprocessing=use_multiprocessing)\n\u001b[0m\u001b[1;32m    728\u001b[0m \u001b[0;34m\u001b[0m\u001b[0m\n\u001b[1;32m    729\u001b[0m   def evaluate(self,\n",
            "\u001b[0;32m/usr/local/lib/python3.6/dist-packages/tensorflow_core/python/keras/engine/training_arrays.py\u001b[0m in \u001b[0;36mfit\u001b[0;34m(self, model, x, y, batch_size, epochs, verbose, callbacks, validation_split, validation_data, shuffle, class_weight, sample_weight, initial_epoch, steps_per_epoch, validation_steps, validation_freq, **kwargs)\u001b[0m\n\u001b[1;32m    673\u001b[0m         \u001b[0mvalidation_steps\u001b[0m\u001b[0;34m=\u001b[0m\u001b[0mvalidation_steps\u001b[0m\u001b[0;34m,\u001b[0m\u001b[0;34m\u001b[0m\u001b[0;34m\u001b[0m\u001b[0m\n\u001b[1;32m    674\u001b[0m         \u001b[0mvalidation_freq\u001b[0m\u001b[0;34m=\u001b[0m\u001b[0mvalidation_freq\u001b[0m\u001b[0;34m,\u001b[0m\u001b[0;34m\u001b[0m\u001b[0;34m\u001b[0m\u001b[0m\n\u001b[0;32m--> 675\u001b[0;31m         steps_name='steps_per_epoch')\n\u001b[0m\u001b[1;32m    676\u001b[0m \u001b[0;34m\u001b[0m\u001b[0m\n\u001b[1;32m    677\u001b[0m   def evaluate(self,\n",
            "\u001b[0;32m/usr/local/lib/python3.6/dist-packages/tensorflow_core/python/keras/engine/training_arrays.py\u001b[0m in \u001b[0;36mmodel_iteration\u001b[0;34m(model, inputs, targets, sample_weights, batch_size, epochs, verbose, callbacks, val_inputs, val_targets, val_sample_weights, shuffle, initial_epoch, steps_per_epoch, validation_steps, validation_freq, mode, validation_in_fit, prepared_feed_values_from_dataset, steps_name, **kwargs)\u001b[0m\n\u001b[1;32m    392\u001b[0m \u001b[0;34m\u001b[0m\u001b[0m\n\u001b[1;32m    393\u001b[0m         \u001b[0;31m# Get outputs.\u001b[0m\u001b[0;34m\u001b[0m\u001b[0;34m\u001b[0m\u001b[0;34m\u001b[0m\u001b[0m\n\u001b[0;32m--> 394\u001b[0;31m         \u001b[0mbatch_outs\u001b[0m \u001b[0;34m=\u001b[0m \u001b[0mf\u001b[0m\u001b[0;34m(\u001b[0m\u001b[0mins_batch\u001b[0m\u001b[0;34m)\u001b[0m\u001b[0;34m\u001b[0m\u001b[0;34m\u001b[0m\u001b[0m\n\u001b[0m\u001b[1;32m    395\u001b[0m         \u001b[0;32mif\u001b[0m \u001b[0;32mnot\u001b[0m \u001b[0misinstance\u001b[0m\u001b[0;34m(\u001b[0m\u001b[0mbatch_outs\u001b[0m\u001b[0;34m,\u001b[0m \u001b[0mlist\u001b[0m\u001b[0;34m)\u001b[0m\u001b[0;34m:\u001b[0m\u001b[0;34m\u001b[0m\u001b[0;34m\u001b[0m\u001b[0m\n\u001b[1;32m    396\u001b[0m           \u001b[0mbatch_outs\u001b[0m \u001b[0;34m=\u001b[0m \u001b[0;34m[\u001b[0m\u001b[0mbatch_outs\u001b[0m\u001b[0;34m]\u001b[0m\u001b[0;34m\u001b[0m\u001b[0;34m\u001b[0m\u001b[0m\n",
            "\u001b[0;32m/usr/local/lib/python3.6/dist-packages/tensorflow_core/python/keras/backend.py\u001b[0m in \u001b[0;36m__call__\u001b[0;34m(self, inputs)\u001b[0m\n\u001b[1;32m   3474\u001b[0m \u001b[0;34m\u001b[0m\u001b[0m\n\u001b[1;32m   3475\u001b[0m     fetched = self._callable_fn(*array_vals,\n\u001b[0;32m-> 3476\u001b[0;31m                                 run_metadata=self.run_metadata)\n\u001b[0m\u001b[1;32m   3477\u001b[0m     \u001b[0mself\u001b[0m\u001b[0;34m.\u001b[0m\u001b[0m_call_fetch_callbacks\u001b[0m\u001b[0;34m(\u001b[0m\u001b[0mfetched\u001b[0m\u001b[0;34m[\u001b[0m\u001b[0;34m-\u001b[0m\u001b[0mlen\u001b[0m\u001b[0;34m(\u001b[0m\u001b[0mself\u001b[0m\u001b[0;34m.\u001b[0m\u001b[0m_fetches\u001b[0m\u001b[0;34m)\u001b[0m\u001b[0;34m:\u001b[0m\u001b[0;34m]\u001b[0m\u001b[0;34m)\u001b[0m\u001b[0;34m\u001b[0m\u001b[0;34m\u001b[0m\u001b[0m\n\u001b[1;32m   3478\u001b[0m     output_structure = nest.pack_sequence_as(\n",
            "\u001b[0;32m/usr/local/lib/python3.6/dist-packages/tensorflow_core/python/client/session.py\u001b[0m in \u001b[0;36m__call__\u001b[0;34m(self, *args, **kwargs)\u001b[0m\n\u001b[1;32m   1470\u001b[0m         ret = tf_session.TF_SessionRunCallable(self._session._session,\n\u001b[1;32m   1471\u001b[0m                                                \u001b[0mself\u001b[0m\u001b[0;34m.\u001b[0m\u001b[0m_handle\u001b[0m\u001b[0;34m,\u001b[0m \u001b[0margs\u001b[0m\u001b[0;34m,\u001b[0m\u001b[0;34m\u001b[0m\u001b[0;34m\u001b[0m\u001b[0m\n\u001b[0;32m-> 1472\u001b[0;31m                                                run_metadata_ptr)\n\u001b[0m\u001b[1;32m   1473\u001b[0m         \u001b[0;32mif\u001b[0m \u001b[0mrun_metadata\u001b[0m\u001b[0;34m:\u001b[0m\u001b[0;34m\u001b[0m\u001b[0;34m\u001b[0m\u001b[0m\n\u001b[1;32m   1474\u001b[0m           \u001b[0mproto_data\u001b[0m \u001b[0;34m=\u001b[0m \u001b[0mtf_session\u001b[0m\u001b[0;34m.\u001b[0m\u001b[0mTF_GetBuffer\u001b[0m\u001b[0;34m(\u001b[0m\u001b[0mrun_metadata_ptr\u001b[0m\u001b[0;34m)\u001b[0m\u001b[0;34m\u001b[0m\u001b[0;34m\u001b[0m\u001b[0m\n",
            "\u001b[0;31mKeyboardInterrupt\u001b[0m: "
          ]
        }
      ]
    },
    {
      "cell_type": "code",
      "metadata": {
        "id": "5i3d6FM4mMaK",
        "colab_type": "code",
        "colab": {}
      },
      "source": [
        "\n",
        "# summarize results\n",
        "print(\"Best: %f using %s\" % (grid_result.best_score_, grid_result.best_params_))\n",
        "means = grid_result.cv_results_['mean_test_score']\n",
        "stds = grid_result.cv_results_['std_test_score']\n",
        "params = grid_result.cv_results_['params']\n",
        "for mean, stdev, param in zip(means, stds, params):\n",
        "    print(\"%f (%f) with: %r\" % (mean, stdev, param))"
      ],
      "execution_count": 0,
      "outputs": []
    }
  ]
}