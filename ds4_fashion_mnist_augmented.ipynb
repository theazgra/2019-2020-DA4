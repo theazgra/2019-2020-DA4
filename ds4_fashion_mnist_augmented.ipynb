{
  "nbformat": 4,
  "nbformat_minor": 0,
  "metadata": {
    "language_info": {
      "name": "python",
      "codemirror_mode": {
        "name": "ipython",
        "version": 3
      },
      "version": "3.7.3-final"
    },
    "orig_nbformat": 2,
    "file_extension": ".py",
    "mimetype": "text/x-python",
    "name": "python",
    "npconvert_exporter": "python",
    "pygments_lexer": "ipython3",
    "version": 3,
    "kernelspec": {
      "name": "python37364bitbaseconda93358e7ee1c64b79add7a5a1e6508241",
      "display_name": "Python 3.7.3 64-bit ('base': conda)"
    },
    "colab": {
      "name": "ds4_02.ipynb",
      "provenance": []
    },
    "accelerator": "GPU"
  },
  "cells": [
    {
      "cell_type": "code",
      "metadata": {
        "id": "5kyzCXCZTZ2O",
        "colab_type": "code",
        "outputId": "42257b1e-dc9f-4a37-a109-0c0b9251360f",
        "colab": {
          "base_uri": "https://localhost:8080/",
          "height": 81
        }
      },
      "source": [
        "from __future__ import absolute_import\n",
        "from __future__ import division\n",
        "from __future__ import print_function\n",
        "\n",
        "import matplotlib.pyplot as plt # plotting\n",
        "import matplotlib.image as mpimg # images\n",
        "import numpy as np #numpy\n",
        "import tensorflow.compat.v2 as tf #use tensorflow v2 as a main \n",
        "import tensorflow.keras as keras # required for high level applications\n",
        "from sklearn.model_selection import train_test_split # split for validation sets\n",
        "from sklearn.preprocessing import normalize # normalization of the matrix\n",
        "from scipy.signal import convolve2d # convolutionof the 2D signals\n",
        "\n",
        "tf.version.VERSION"
      ],
      "execution_count": 2,
      "outputs": [
        {
          "output_type": "display_data",
          "data": {
            "text/html": [
              "<p style=\"color: red;\">\n",
              "The default version of TensorFlow in Colab will soon switch to TensorFlow 2.x.<br>\n",
              "We recommend you <a href=\"https://www.tensorflow.org/guide/migrate\" target=\"_blank\">upgrade</a> now \n",
              "or ensure your notebook will continue to use TensorFlow 1.x via the <code>%tensorflow_version 1.x</code> magic:\n",
              "<a href=\"https://colab.research.google.com/notebooks/tensorflow_version.ipynb\" target=\"_blank\">more info</a>.</p>\n"
            ],
            "text/plain": [
              "<IPython.core.display.HTML object>"
            ]
          },
          "metadata": {
            "tags": []
          }
        },
        {
          "output_type": "execute_result",
          "data": {
            "text/plain": [
              "'1.15.0'"
            ]
          },
          "metadata": {
            "tags": []
          },
          "execution_count": 2
        }
      ]
    },
    {
      "cell_type": "code",
      "metadata": {
        "id": "87wpBg5PTZ2S",
        "colab_type": "code",
        "colab": {}
      },
      "source": [
        "def show_history(history):\n",
        "    plt.figure()\n",
        "    for key in history.history.keys():\n",
        "        plt.plot(history.epoch, history.history[key], label=key)\n",
        "    plt.legend()\n",
        "    plt.tight_layout()\n"
      ],
      "execution_count": 0,
      "outputs": []
    },
    {
      "cell_type": "code",
      "metadata": {
        "id": "7B9wDuhCTZ2W",
        "colab_type": "code",
        "outputId": "b497c822-0bb7-4607-ba4f-aa052944a2a9",
        "colab": {
          "base_uri": "https://localhost:8080/",
          "height": 86
        }
      },
      "source": [
        "# mnist is the basic dataset with handwritten digits\n",
        "dataset = tf.keras.datasets.fashion_mnist\n",
        "\n",
        "# data from any dataset are loaded using the load_Data function\n",
        "(train_x, train_y), (test_x, test_y) = dataset.load_data()\n",
        "\n",
        "train_x, test_x = train_x/255.0, test_x/255.0\n",
        "\n",
        "train_x, valid_x, train_y, valid_y = train_test_split(train_x, train_y, test_size=0.2, random_state=42)\n",
        "\n",
        "# the data are in the form of 28x28 pixes with values 0-255.\n",
        "print('Train data shape: ', train_x.shape, train_y.shape)\n",
        "print('Validation data shape: ', valid_x.shape, valid_y.shape)\n",
        "print('Test data shape:  ', test_x.shape, test_y.shape)\n",
        "\n",
        "class_names = ['T-shirt/top', 'Trouser', 'Pullover', 'Dress', 'Coat', 'Sandal', 'Shirt', 'Sneaker', 'Bag', 'Ankle boo']\n",
        "class_count = len(class_names)\n",
        "print('Class count:', class_count, class_names)\n",
        "\n",
        "train_x = train_x.reshape((train_x.shape[0], 28, 28, 1))\n",
        "valid_x = valid_x.reshape((valid_x.shape[0], 28, 28, 1))\n",
        "test_x = test_x.reshape((test_x.shape[0], 28, 28, 1))"
      ],
      "execution_count": 6,
      "outputs": [
        {
          "output_type": "stream",
          "text": [
            "Train data shape:  (48000, 28, 28) (48000,)\n",
            "Validation data shape:  (12000, 28, 28) (12000,)\n",
            "Test data shape:   (10000, 28, 28) (10000,)\n",
            "Class count: 10 ['T-shirt/top', 'Trouser', 'Pullover', 'Dress', 'Coat', 'Sandal', 'Shirt', 'Sneaker', 'Bag', 'Ankle boo']\n"
          ],
          "name": "stdout"
        }
      ]
    },
    {
      "cell_type": "markdown",
      "metadata": {
        "id": "SX5RMKgaTZ2c",
        "colab_type": "text"
      },
      "source": [
        "#### Definition of the model\n",
        "The base model is defined as *Sequential* with three layers, similarly to the previous lecture.\n",
        "\n",
        "Summarization of the model and compilation is done similarly as well."
      ]
    },
    {
      "cell_type": "code",
      "metadata": {
        "id": "oj7BgMfPTZ2d",
        "colab_type": "code",
        "outputId": "ecc6cc46-7be6-4d18-8015-18a9b0df801d",
        "colab": {
          "base_uri": "https://localhost:8080/",
          "height": 575
        }
      },
      "source": [
        "model = keras.Sequential([\n",
        "    keras.layers.Conv2D(64, (3,3), activation='relu', input_shape=(28, 28, 1)),\n",
        "    keras.layers.MaxPooling2D((2, 2)),\n",
        "    keras.layers.BatchNormalization(),\n",
        "    keras.layers.Conv2D(32, (3,3), activation='relu'),\n",
        "    keras.layers.BatchNormalization(),\n",
        "    keras.layers.Conv2D(32, (3,3), activation='relu'),\n",
        "    keras.layers.Flatten(),\n",
        "    keras.layers.Dropout(0.3),\n",
        "    keras.layers.Dense(64, activation='relu'),\n",
        "    keras.layers.Dense(class_count)\n",
        "])\n",
        "\n",
        "model.summary()\n",
        "\n",
        "model.compile(loss=keras.losses.SparseCategoricalCrossentropy(from_logits=True),\n",
        "              optimizer='adam',\n",
        "              metrics=['accuracy'])"
      ],
      "execution_count": 7,
      "outputs": [
        {
          "output_type": "stream",
          "text": [
            "WARNING:tensorflow:From /usr/local/lib/python3.6/dist-packages/tensorflow_core/python/ops/resource_variable_ops.py:1630: calling BaseResourceVariable.__init__ (from tensorflow.python.ops.resource_variable_ops) with constraint is deprecated and will be removed in a future version.\n",
            "Instructions for updating:\n",
            "If using Keras pass *_constraint arguments to layers.\n",
            "Model: \"sequential\"\n",
            "_________________________________________________________________\n",
            "Layer (type)                 Output Shape              Param #   \n",
            "=================================================================\n",
            "conv2d (Conv2D)              (None, 26, 26, 64)        640       \n",
            "_________________________________________________________________\n",
            "max_pooling2d (MaxPooling2D) (None, 13, 13, 64)        0         \n",
            "_________________________________________________________________\n",
            "batch_normalization (BatchNo (None, 13, 13, 64)        256       \n",
            "_________________________________________________________________\n",
            "conv2d_1 (Conv2D)            (None, 11, 11, 32)        18464     \n",
            "_________________________________________________________________\n",
            "batch_normalization_1 (Batch (None, 11, 11, 32)        128       \n",
            "_________________________________________________________________\n",
            "conv2d_2 (Conv2D)            (None, 9, 9, 32)          9248      \n",
            "_________________________________________________________________\n",
            "flatten (Flatten)            (None, 2592)              0         \n",
            "_________________________________________________________________\n",
            "dropout (Dropout)            (None, 2592)              0         \n",
            "_________________________________________________________________\n",
            "dense (Dense)                (None, 64)                165952    \n",
            "_________________________________________________________________\n",
            "dense_1 (Dense)              (None, 10)                650       \n",
            "=================================================================\n",
            "Total params: 195,338\n",
            "Trainable params: 195,146\n",
            "Non-trainable params: 192\n",
            "_________________________________________________________________\n"
          ],
          "name": "stdout"
        }
      ]
    },
    {
      "cell_type": "markdown",
      "metadata": {
        "id": "Y-PGMZogTZ2g",
        "colab_type": "text"
      },
      "source": [
        "#### Fit the model for defined number of epochs.\n",
        "Show the history of learning, evaluate the efficiency of the model."
      ]
    },
    {
      "cell_type": "code",
      "metadata": {
        "id": "mIJL18mKTZ2g",
        "colab_type": "code",
        "outputId": "b5d2eedf-8059-437d-a79f-95480735043b",
        "colab": {
          "base_uri": "https://localhost:8080/",
          "height": 696
        }
      },
      "source": [
        "history = model.fit(train_x, train_y, validation_data=(valid_x, valid_y), epochs=10)\n",
        "\n",
        "show_history(history)\n",
        "\n",
        "test_loss, test_acc = model.evaluate(test_x, test_y)\n",
        "print('Test accuracy: ', test_acc)"
      ],
      "execution_count": 8,
      "outputs": [
        {
          "output_type": "stream",
          "text": [
            "Train on 48000 samples, validate on 12000 samples\n",
            "Epoch 1/10\n",
            "48000/48000 [==============================] - 12s 255us/sample - loss: 0.4281 - acc: 0.8452 - val_loss: 0.3154 - val_acc: 0.8857\n",
            "Epoch 2/10\n",
            "48000/48000 [==============================] - 6s 125us/sample - loss: 0.2897 - acc: 0.8946 - val_loss: 0.2893 - val_acc: 0.8948\n",
            "Epoch 3/10\n",
            "48000/48000 [==============================] - 6s 124us/sample - loss: 0.2569 - acc: 0.9068 - val_loss: 0.2574 - val_acc: 0.9037\n",
            "Epoch 4/10\n",
            "48000/48000 [==============================] - 6s 126us/sample - loss: 0.2294 - acc: 0.9149 - val_loss: 0.3144 - val_acc: 0.8882\n",
            "Epoch 5/10\n",
            "48000/48000 [==============================] - 6s 125us/sample - loss: 0.2107 - acc: 0.9210 - val_loss: 0.2383 - val_acc: 0.9123\n",
            "Epoch 6/10\n",
            "48000/48000 [==============================] - 6s 124us/sample - loss: 0.1917 - acc: 0.9274 - val_loss: 0.2268 - val_acc: 0.9188\n",
            "Epoch 7/10\n",
            "48000/48000 [==============================] - 6s 129us/sample - loss: 0.1791 - acc: 0.9324 - val_loss: 0.2600 - val_acc: 0.9128\n",
            "Epoch 8/10\n",
            "48000/48000 [==============================] - 6s 125us/sample - loss: 0.1639 - acc: 0.9377 - val_loss: 0.2314 - val_acc: 0.9199\n",
            "Epoch 9/10\n",
            "48000/48000 [==============================] - 6s 126us/sample - loss: 0.1561 - acc: 0.9406 - val_loss: 0.2626 - val_acc: 0.9149\n",
            "Epoch 10/10\n",
            "48000/48000 [==============================] - 6s 129us/sample - loss: 0.1431 - acc: 0.9463 - val_loss: 0.2358 - val_acc: 0.9217\n",
            "10000/10000 [==============================] - 1s 57us/sample - loss: 0.2642 - acc: 0.9170\n",
            "Test accuracy:  0.917\n"
          ],
          "name": "stdout"
        },
        {
          "output_type": "display_data",
          "data": {
            "image/png": "[encoded data removed]",
            "text/plain": [
              "<Figure size 432x288 with 1 Axes>"
            ]
          },
          "metadata": {
            "tags": []
          }
        }
      ]
    },
    {
      "cell_type": "markdown",
      "metadata": {
        "id": "hjDS3HS8TZ2n",
        "colab_type": "text"
      },
      "source": [
        "#### Vizualization of the confusion matrix."
      ]
    },
    {
      "cell_type": "code",
      "metadata": {
        "id": "wTRhjH2wTZ2o",
        "colab_type": "code",
        "outputId": "d7af25f0-a054-46d8-c457-a7eacdc8db79",
        "colab": {
          "base_uri": "https://localhost:8080/",
          "height": 695
        }
      },
      "source": [
        "predictions = model.predict(test_x)\n",
        "conf_matrix = np.zeros((class_count, class_count))\n",
        "for idx, pred in enumerate(predictions):\n",
        "    row = test_y[idx]\n",
        "    col = np.argmax(pred)\n",
        "    conf_matrix[row, col] += 1\n",
        "\n",
        "\n",
        "# print(conf_matrix)\n",
        "conf_matrix = normalize(conf_matrix, axis=1, norm='l1')\n",
        "# print(conf_matrix)\n",
        "\n",
        "plt.figure(figsize=(class_count,class_count))\n",
        "\n",
        "plt.imshow(conf_matrix)\n",
        "\n",
        "for i in range(conf_matrix.shape[0]):\n",
        "    for j in range(conf_matrix.shape[1]):\n",
        "        text = plt.text(j, i, \"{:.2f}\".format(conf_matrix[i, j]), ha=\"center\", va=\"center\", color=\"w\")\n",
        "\n",
        "plt.xticks(range(class_count), class_names)\n",
        "plt.yticks(range(class_count), class_names)\n",
        "\n",
        "plt.tight_layout()\n",
        "plt.show()     "
      ],
      "execution_count": 11,
      "outputs": [
        {
          "output_type": "display_data",
          "data": {
            "image/png": "[encoded data removed]",
            "text/plain": [
              "<Figure size 720x720 with 1 Axes>"
            ]
          },
          "metadata": {
            "tags": []
          }
        }
      ]
    },
    {
      "cell_type": "code",
      "metadata": {
        "id": "2F6L-gF2TZ2r",
        "colab_type": "code",
        "outputId": "b3fa5e4d-802a-4e12-af04-91b87a058538",
        "colab": {
          "base_uri": "https://localhost:8080/",
          "height": 697
        }
      },
      "source": [
        "augModel = keras.Sequential([\n",
        "    keras.layers.Conv2D(64, (3,3), activation='relu', input_shape=(28, 28, 1)),\n",
        "    keras.layers.MaxPooling2D((2, 2)),\n",
        "    keras.layers.BatchNormalization(),\n",
        "    keras.layers.Conv2D(32, (3,3), activation='relu'),\n",
        "    keras.layers.BatchNormalization(),\n",
        "    keras.layers.Dropout(0.3),\n",
        "    keras.layers.Conv2D(32, (3,3), activation='relu'),\n",
        "    keras.layers.BatchNormalization(),\n",
        "    keras.layers.Conv2D(32, (3,3), activation='relu'),\n",
        "    keras.layers.Flatten(),\n",
        "    keras.layers.Dropout(0.3),\n",
        "    keras.layers.Dense(64, activation='relu'),\n",
        "    keras.layers.Dense(class_count)\n",
        "])\n",
        "\n",
        "#model.summary()\n",
        "\n",
        "augModel.compile(loss=keras.losses.SparseCategoricalCrossentropy(from_logits=True),\n",
        "              optimizer='adam',\n",
        "              metrics=['accuracy'])\n",
        "\n",
        "datagen = keras.preprocessing.image.ImageDataGenerator(#zoom_range=0.2,\n",
        "                                                       #rotation_range=45,\n",
        "                                                       featurewise_center=True,\n",
        "                                                       #featurewise_std_normalization=True,\n",
        "                                                       horizontal_flip=True,\n",
        "                                                       vertical_flip=True\n",
        "                                                       )\n",
        "\n",
        "batchSize=32\n",
        "augHistory = augModel.fit_generator(datagen.flow(train_x, train_y, batch_size=batchSize),\n",
        "                                    steps_per_epoch=(len(train_x) / batchSize),\n",
        "                                    validation_data=(valid_x, valid_y),\n",
        "                                    epochs=10)\n",
        "\n",
        "show_history(augHistory)\n",
        "\n",
        "test_loss, test_acc = augModel.evaluate(test_x, test_y)\n",
        "print('Test accuracy: ', test_acc)"
      ],
      "execution_count": 0,
      "outputs": [
        {
          "output_type": "stream",
          "text": [
            "/usr/local/lib/python3.6/dist-packages/keras_preprocessing/image/image_data_generator.py:716: UserWarning: This ImageDataGenerator specifies `featurewise_center`, but it hasn't been fit on any training data. Fit it first by calling `.fit(numpy_data)`.\n",
            "  warnings.warn('This ImageDataGenerator specifies '\n"
          ],
          "name": "stderr"
        },
        {
          "output_type": "stream",
          "text": [
            "Epoch 1/10\n",
            "  30/1500 [..............................] - ETA: 53s - loss: 1.6880 - acc: 0.4083 "
          ],
          "name": "stdout"
        },
        {
          "output_type": "stream",
          "text": [
            "/usr/local/lib/python3.6/dist-packages/keras_preprocessing/image/image_data_generator.py:716: UserWarning: This ImageDataGenerator specifies `featurewise_center`, but it hasn't been fit on any training data. Fit it first by calling `.fit(numpy_data)`.\n",
            "  warnings.warn('This ImageDataGenerator specifies '\n"
          ],
          "name": "stderr"
        },
        {
          "output_type": "stream",
          "text": [
            "1494/1500 [============================>.] - ETA: 0s - loss: 0.6033 - acc: 0.7802Epoch 1/10\n",
            "12000/1500 [================================================================================================================================================================================================================================================] - 1s 105us/sample - loss: 0.5822 - acc: 0.7796\n",
            "1500/1500 [==============================] - 10s 7ms/step - loss: 0.6028 - acc: 0.7803 - val_loss: 0.5332 - val_acc: 0.7796\n",
            "Epoch 2/10\n",
            "1494/1500 [============================>.] - ETA: 0s - loss: 0.4132 - acc: 0.8493Epoch 1/10\n",
            "12000/1500 [================================================================================================================================================================================================================================================] - 1s 85us/sample - loss: 0.3940 - acc: 0.8689\n",
            "1500/1500 [==============================] - 9s 6ms/step - loss: 0.4128 - acc: 0.8494 - val_loss: 0.3585 - val_acc: 0.8689\n",
            "Epoch 3/10\n",
            "1497/1500 [============================>.] - ETA: 0s - loss: 0.3690 - acc: 0.8641Epoch 1/10\n",
            "12000/1500 [================================================================================================================================================================================================================================================] - 1s 87us/sample - loss: 0.4296 - acc: 0.8330\n",
            "1500/1500 [==============================] - 10s 6ms/step - loss: 0.3691 - acc: 0.8641 - val_loss: 0.4447 - val_acc: 0.8330\n",
            "Epoch 4/10\n",
            "1492/1500 [============================>.] - ETA: 0s - loss: 0.3434 - acc: 0.8746Epoch 1/10\n",
            "12000/1500 [================================================================================================================================================================================================================================================] - 1s 87us/sample - loss: 0.2800 - acc: 0.8903\n",
            "1500/1500 [==============================] - 10s 6ms/step - loss: 0.3432 - acc: 0.8747 - val_loss: 0.3049 - val_acc: 0.8903\n",
            "Epoch 5/10\n",
            "1496/1500 [============================>.] - ETA: 0s - loss: 0.3306 - acc: 0.8796Epoch 1/10\n",
            "12000/1500 [================================================================================================================================================================================================================================================] - 1s 86us/sample - loss: 0.3078 - acc: 0.8847\n",
            "1500/1500 [==============================] - 9s 6ms/step - loss: 0.3307 - acc: 0.8795 - val_loss: 0.3178 - val_acc: 0.8847\n",
            "Epoch 6/10\n",
            "1492/1500 [============================>.] - ETA: 0s - loss: 0.3194 - acc: 0.8830Epoch 1/10\n",
            "12000/1500 [================================================================================================================================================================================================================================================] - 1s 85us/sample - loss: 0.2394 - acc: 0.8926\n",
            "1500/1500 [==============================] - 9s 6ms/step - loss: 0.3192 - acc: 0.8831 - val_loss: 0.2895 - val_acc: 0.8926\n",
            "Epoch 7/10\n",
            "1494/1500 [============================>.] - ETA: 0s - loss: 0.3060 - acc: 0.8878Epoch 1/10\n",
            "12000/1500 [================================================================================================================================================================================================================================================] - 1s 85us/sample - loss: 0.2890 - acc: 0.8681\n",
            "1500/1500 [==============================] - 9s 6ms/step - loss: 0.3062 - acc: 0.8878 - val_loss: 0.3450 - val_acc: 0.8681\n",
            "Epoch 8/10\n",
            "1493/1500 [============================>.] - ETA: 0s - loss: 0.3009 - acc: 0.8890Epoch 1/10\n",
            "12000/1500 [================================================================================================================================================================================================================================================] - 1s 84us/sample - loss: 0.2389 - acc: 0.8878\n",
            "1500/1500 [==============================] - 9s 6ms/step - loss: 0.3005 - acc: 0.8891 - val_loss: 0.3037 - val_acc: 0.8878\n",
            "Epoch 9/10\n",
            " 299/1500 [====>.........................] - ETA: 6s - loss: 0.2825 - acc: 0.8953"
          ],
          "name": "stdout"
        }
      ]
    },
    {
      "cell_type": "code",
      "metadata": {
        "id": "fLCJIylIyQWp",
        "colab_type": "code",
        "colab": {
          "base_uri": "https://localhost:8080/",
          "height": 1000
        },
        "outputId": "54ac575d-20cc-477b-b830-6851dab65dfd"
      },
      "source": [
        "augHistory = augModel.fit_generator(datagen.flow(train_x, train_y, batch_size=batchSize),\n",
        "                                    steps_per_epoch=(len(train_x) / batchSize),\n",
        "                                    validation_data=(valid_x, valid_y),\n",
        "                                    epochs=10)\n",
        "\n",
        "show_history(augHistory)\n",
        "\n",
        "test_loss, test_acc = augModel.evaluate(test_x, test_y)\n",
        "print('Test accuracy: ', test_acc)"
      ],
      "execution_count": 14,
      "outputs": [
        {
          "output_type": "stream",
          "text": [
            "Epoch 1/10\n",
            "1492/1500 [============================>.] - ETA: 0s - loss: 0.2398 - acc: 0.9125Epoch 1/10\n",
            "12000/1500 [================================================================================================================================================================================================================================================] - 1s 96us/sample - loss: 0.2765 - acc: 0.8949\n",
            "1500/1500 [==============================] - 8s 6ms/step - loss: 0.2399 - acc: 0.9124 - val_loss: 0.2912 - val_acc: 0.8949\n",
            "Epoch 2/10\n",
            "1497/1500 [============================>.] - ETA: 0s - loss: 0.2327 - acc: 0.9139Epoch 1/10\n",
            "12000/1500 [================================================================================================================================================================================================================================================] - 1s 80us/sample - loss: 0.2517 - acc: 0.9038\n",
            "1500/1500 [==============================] - 8s 5ms/step - loss: 0.2325 - acc: 0.9140 - val_loss: 0.2645 - val_acc: 0.9038\n",
            "Epoch 3/10\n",
            "1492/1500 [============================>.] - ETA: 0s - loss: 0.2301 - acc: 0.9158Epoch 1/10\n",
            "12000/1500 [================================================================================================================================================================================================================================================] - 1s 83us/sample - loss: 0.2278 - acc: 0.9092\n",
            "1500/1500 [==============================] - 8s 6ms/step - loss: 0.2300 - acc: 0.9158 - val_loss: 0.2607 - val_acc: 0.9092\n",
            "Epoch 4/10\n",
            "1494/1500 [============================>.] - ETA: 0s - loss: 0.2228 - acc: 0.9170Epoch 1/10\n",
            "12000/1500 [================================================================================================================================================================================================================================================] - 1s 93us/sample - loss: 0.2442 - acc: 0.9112\n",
            "1500/1500 [==============================] - 8s 6ms/step - loss: 0.2227 - acc: 0.9170 - val_loss: 0.2498 - val_acc: 0.9112\n",
            "Epoch 5/10\n",
            "1495/1500 [============================>.] - ETA: 0s - loss: 0.2196 - acc: 0.9202Epoch 1/10\n",
            "12000/1500 [================================================================================================================================================================================================================================================] - 1s 82us/sample - loss: 0.1891 - acc: 0.9150\n",
            "1500/1500 [==============================] - 8s 5ms/step - loss: 0.2199 - acc: 0.9201 - val_loss: 0.2412 - val_acc: 0.9150\n",
            "Epoch 6/10\n",
            "1493/1500 [============================>.] - ETA: 0s - loss: 0.2141 - acc: 0.9199Epoch 1/10\n",
            "12000/1500 [================================================================================================================================================================================================================================================] - 1s 81us/sample - loss: 0.2720 - acc: 0.8968\n",
            "1500/1500 [==============================] - 9s 6ms/step - loss: 0.2138 - acc: 0.9199 - val_loss: 0.2959 - val_acc: 0.8968\n",
            "Epoch 7/10\n",
            "1490/1500 [============================>.] - ETA: 0s - loss: 0.2116 - acc: 0.9224Epoch 1/10\n",
            "12000/1500 [================================================================================================================================================================================================================================================] - 1s 79us/sample - loss: 0.3008 - acc: 0.9051\n",
            "1500/1500 [==============================] - 8s 5ms/step - loss: 0.2118 - acc: 0.9222 - val_loss: 0.2689 - val_acc: 0.9051\n",
            "Epoch 8/10\n",
            "1499/1500 [============================>.] - ETA: 0s - loss: 0.2095 - acc: 0.9216Epoch 1/10\n",
            "12000/1500 [================================================================================================================================================================================================================================================] - 1s 79us/sample - loss: 0.2310 - acc: 0.9140\n",
            "1500/1500 [==============================] - 8s 5ms/step - loss: 0.2094 - acc: 0.9216 - val_loss: 0.2491 - val_acc: 0.9140\n",
            "Epoch 9/10\n",
            "1499/1500 [============================>.] - ETA: 0s - loss: 0.2043 - acc: 0.9249Epoch 1/10\n",
            "12000/1500 [================================================================================================================================================================================================================================================] - 1s 81us/sample - loss: 0.2480 - acc: 0.9154\n",
            "1500/1500 [==============================] - 8s 6ms/step - loss: 0.2043 - acc: 0.9249 - val_loss: 0.2375 - val_acc: 0.9154\n",
            "Epoch 10/10\n",
            "1493/1500 [============================>.] - ETA: 0s - loss: 0.2015 - acc: 0.9260Epoch 1/10\n",
            "12000/1500 [================================================================================================================================================================================================================================================] - 1s 78us/sample - loss: 0.2136 - acc: 0.9153\n",
            "1500/1500 [==============================] - 8s 5ms/step - loss: 0.2016 - acc: 0.9260 - val_loss: 0.2477 - val_acc: 0.9153\n",
            "10000/10000 [==============================] - 1s 60us/sample - loss: 0.2585 - acc: 0.9093\n",
            "Test accuracy:  0.9093\n"
          ],
          "name": "stdout"
        },
        {
          "output_type": "display_data",
          "data": {
            "image/png": "[encoded data removed]",
            "text/plain": [
              "<Figure size 432x288 with 1 Axes>"
            ]
          },
          "metadata": {
            "tags": []
          }
        }
      ]
    },
    {
      "cell_type": "code",
      "metadata": {
        "id": "PgPtGx2Ox2vT",
        "colab_type": "code",
        "colab": {}
      },
      "source": [
        ""
      ],
      "execution_count": 0,
      "outputs": []
    }
  ]
}