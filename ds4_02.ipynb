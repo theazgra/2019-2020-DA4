{
  "nbformat": 4,
  "nbformat_minor": 0,
  "metadata": {
    "language_info": {
      "name": "python",
      "codemirror_mode": {
        "name": "ipython",
        "version": 3
      },
      "version": "3.7.3-final"
    },
    "orig_nbformat": 2,
    "file_extension": ".py",
    "mimetype": "text/x-python",
    "name": "python",
    "npconvert_exporter": "python",
    "pygments_lexer": "ipython3",
    "version": 3,
    "kernelspec": {
      "name": "python37364bitbaseconda93358e7ee1c64b79add7a5a1e6508241",
      "display_name": "Python 3.7.3 64-bit ('base': conda)"
    },
    "colab": {
      "name": "ds4_02.ipynb",
      "provenance": []
    }
  },
  "cells": [
    {
      "cell_type": "markdown",
      "metadata": {
        "id": "nSX0s16UTZ2L",
        "colab_type": "text"
      },
      "source": [
        "# Data analysis 4 - Lecture 2\n",
        "This lecture is about storing and restoring model, application o fthe checkpoints.\n",
        "\n",
        "We use validating sets, and evaluate our models on FashionMnist dataset.\n",
        "\n",
        "Also we will try the TransferLearning simple/educational example where we use one model trained on a dataset and retrained only the final layer for different dataset.\n"
      ]
    },
    {
      "cell_type": "markdown",
      "metadata": {
        "id": "rCzt2PS2TZ2N",
        "colab_type": "text"
      },
      "source": [
        "[Open in Google colab](https://colab.research.google.com/github/jplatos/2019-2020-da4/blob/master/ds4_02.ipynb)\n",
        "[Download from Github](https://raw.githubusercontent.com/jplatos/2019-2020-DA4/master/ds4_02.ipynb)\n"
      ]
    },
    {
      "cell_type": "code",
      "metadata": {
        "id": "5kyzCXCZTZ2O",
        "colab_type": "code",
        "colab": {
          "base_uri": "https://localhost:8080/",
          "height": 80
        },
        "outputId": "6240572b-507f-4d49-e4e4-66b60f626309"
      },
      "source": [
        "from __future__ import absolute_import\n",
        "from __future__ import division\n",
        "from __future__ import print_function\n",
        "\n",
        "import matplotlib.pyplot as plt # plotting\n",
        "import numpy as np #numpy\n",
        "import tensorflow.compat.v2 as tf #use tensorflow v2 as a main \n",
        "import tensorflow.keras as keras # required for high level applications\n",
        "from sklearn.model_selection import train_test_split # split for validation sets\n",
        "from sklearn.preprocessing import normalize # normalization of the matrix\n",
        "\n",
        "tf.version.VERSION"
      ],
      "execution_count": 1,
      "outputs": [
        {
          "output_type": "display_data",
          "data": {
            "text/html": [
              "<p style=\"color: red;\">\n",
              "The default version of TensorFlow in Colab will soon switch to TensorFlow 2.x.<br>\n",
              "We recommend you <a href=\"https://www.tensorflow.org/guide/migrate\" target=\"_blank\">upgrade</a> now \n",
              "or ensure your notebook will continue to use TensorFlow 1.x via the <code>%tensorflow_version 1.x</code> magic:\n",
              "<a href=\"https://colab.research.google.com/notebooks/tensorflow_version.ipynb\" target=\"_blank\">more info</a>.</p>\n"
            ],
            "text/plain": [
              "<IPython.core.display.HTML object>"
            ]
          },
          "metadata": {
            "tags": []
          }
        },
        {
          "output_type": "execute_result",
          "data": {
            "text/plain": [
              "'1.15.0'"
            ]
          },
          "metadata": {
            "tags": []
          },
          "execution_count": 1
        }
      ]
    },
    {
      "cell_type": "markdown",
      "metadata": {
        "id": "cRDoebm_TZ2R",
        "colab_type": "text"
      },
      "source": [
        "#### Some utility functions\n",
        "Here is some functions we will use later several times\n",
        "* **show_history** - show history of the **fit** method\n"
      ]
    },
    {
      "cell_type": "code",
      "metadata": {
        "id": "87wpBg5PTZ2S",
        "colab_type": "code",
        "colab": {}
      },
      "source": [
        "def show_history(history):\n",
        "    plt.figure()\n",
        "    for key in history.history.keys():\n",
        "        plt.plot(history.epoch, history.history[key], label=key)\n",
        "    plt.legend()\n",
        "    plt.tight_layout()\n"
      ],
      "execution_count": 0,
      "outputs": []
    },
    {
      "cell_type": "markdown",
      "metadata": {
        "id": "H0KYE4p7TZ2V",
        "colab_type": "text"
      },
      "source": [
        "#### Dataset load\n",
        "Importig dataset **FashonMinst** a collection of images 28x28 grayscale of typical clothes and accesories.\n",
        "Dataset is:\n",
        "* downloaded\n",
        "* splitted into train and test set\n",
        "* converted from the range <0,255> into <0, 1>\n",
        "* *train* is splitted into *train* and *validation* set \n",
        "* class names are defined"
      ]
    },
    {
      "cell_type": "code",
      "metadata": {
        "id": "7B9wDuhCTZ2W",
        "colab_type": "code",
        "colab": {
          "base_uri": "https://localhost:8080/",
          "height": 221
        },
        "outputId": "289403c9-c81d-4629-c717-8dfbfedbe432"
      },
      "source": [
        "# mnist is the basic dataset with handwritten digits\n",
        "dataset = tf.keras.datasets.fashion_mnist\n",
        "\n",
        "# data from any dataset are loaded using the load_Data function\n",
        "(train_x, train_y), (test_x, test_y) = dataset.load_data()\n",
        "\n",
        "train_x, test_x = train_x/255.0, test_x/255.0\n",
        "\n",
        "train_x, valid_x, train_y, valid_y = train_test_split(train_x, train_y, test_size=0.2, random_state=42)\n",
        "\n",
        "# the data are in the form of 28x28 pixes with values 0-255.\n",
        "print('Train data shape: ', train_x.shape, train_y.shape)\n",
        "print('Validation data shape: ', valid_x.shape, valid_y.shape)\n",
        "print('Test data shape:  ', test_x.shape, test_y.shape)\n",
        "\n",
        "class_names = ['T-shirt/top', 'Trouser', 'Pullover', 'Dress', 'Coat', 'Sandal', 'Shirt', 'Sneaker', 'Bag', 'Ankle boo']\n",
        "class_count = len(class_names)\n",
        "print('Class count:', class_count, class_names)"
      ],
      "execution_count": 4,
      "outputs": [
        {
          "output_type": "stream",
          "text": [
            "Downloading data from https://storage.googleapis.com/tensorflow/tf-keras-datasets/train-labels-idx1-ubyte.gz\n",
            "32768/29515 [=================================] - 0s 0us/step\n",
            "Downloading data from https://storage.googleapis.com/tensorflow/tf-keras-datasets/train-images-idx3-ubyte.gz\n",
            "26427392/26421880 [==============================] - 0s 0us/step\n",
            "Downloading data from https://storage.googleapis.com/tensorflow/tf-keras-datasets/t10k-labels-idx1-ubyte.gz\n",
            "8192/5148 [===============================================] - 0s 0us/step\n",
            "Downloading data from https://storage.googleapis.com/tensorflow/tf-keras-datasets/t10k-images-idx3-ubyte.gz\n",
            "4423680/4422102 [==============================] - 0s 0us/step\n",
            "Train data shape:  (48000, 28, 28) (48000,)\n",
            "Validation data shape:  (12000, 28, 28) (12000,)\n",
            "Test data shape:   (10000, 28, 28) (10000,)\n",
            "Class count: 10 ['T-shirt/top', 'Trouser', 'Pullover', 'Dress', 'Coat', 'Sandal', 'Shirt', 'Sneaker', 'Bag', 'Ankle boo']\n"
          ],
          "name": "stdout"
        }
      ]
    },
    {
      "cell_type": "markdown",
      "metadata": {
        "id": "TJmAvekeTZ2Y",
        "colab_type": "text"
      },
      "source": [
        "#### Show first 25 images from the dataset"
      ]
    },
    {
      "cell_type": "code",
      "metadata": {
        "id": "Wg3KeC8DTZ2Z",
        "colab_type": "code",
        "colab": {
          "base_uri": "https://localhost:8080/",
          "height": 589
        },
        "outputId": "b7063c10-5553-454f-91a2-b1b92fcdc822"
      },
      "source": [
        "plt.figure(figsize=(10,10))\n",
        "for i in range(25):\n",
        "    plt.subplot(5,5,i+1)\n",
        "    plt.xticks([])\n",
        "    plt.yticks([])\n",
        "    plt.grid(False)\n",
        "    plt.imshow(train_x[i], cmap=plt.cm.gray)\n",
        "    plt.xlabel(class_names[train_y[i]])\n",
        "plt.show()"
      ],
      "execution_count": 5,
      "outputs": [
        {
          "output_type": "display_data",
          "data": {
            "image/png": "[encoded data removed]",
            "text/plain": [
              "<Figure size 720x720 with 25 Axes>"
            ]
          },
          "metadata": {
            "tags": []
          }
        }
      ]
    },
    {
      "cell_type": "markdown",
      "metadata": {
        "id": "SX5RMKgaTZ2c",
        "colab_type": "text"
      },
      "source": [
        "#### Definition of the model\n",
        "The base model is defined as *Sequential* with three layers, similarly to the previous lecture.\n",
        "\n",
        "Summarization of the model and compilation is done similarly as well."
      ]
    },
    {
      "cell_type": "code",
      "metadata": {
        "id": "oj7BgMfPTZ2d",
        "colab_type": "code",
        "colab": {
          "base_uri": "https://localhost:8080/",
          "height": 326
        },
        "outputId": "05b0e0cd-67fd-4bd3-f566-0cfe1ab0253b"
      },
      "source": [
        "model = keras.Sequential([\n",
        "    keras.layers.Flatten(input_shape=(28, 28)),# Flatten module flatten the multidimension input into single vector 28x28 = 784 float numbers\n",
        "    keras.layers.Dense(32, activation=tf.nn.relu), # standard dense-fully connected layer with the rectified lineaar function as an activation\n",
        "    keras.layers.Dense(class_count, activation=tf.nn.softmax), # another fully-connected layer with softmax activation function\n",
        "])\n",
        "\n",
        "model.summary()\n",
        "\n",
        "\n",
        "model.compile(loss=keras.losses.SparseCategoricalCrossentropy(from_logits=False),\n",
        "              optimizer='adam',\n",
        "              metrics=['accuracy'])\n"
      ],
      "execution_count": 6,
      "outputs": [
        {
          "output_type": "stream",
          "text": [
            "WARNING:tensorflow:From /usr/local/lib/python3.6/dist-packages/tensorflow_core/python/ops/resource_variable_ops.py:1630: calling BaseResourceVariable.__init__ (from tensorflow.python.ops.resource_variable_ops) with constraint is deprecated and will be removed in a future version.\n",
            "Instructions for updating:\n",
            "If using Keras pass *_constraint arguments to layers.\n",
            "Model: \"sequential\"\n",
            "_________________________________________________________________\n",
            "Layer (type)                 Output Shape              Param #   \n",
            "=================================================================\n",
            "flatten (Flatten)            (None, 784)               0         \n",
            "_________________________________________________________________\n",
            "dense (Dense)                (None, 32)                25120     \n",
            "_________________________________________________________________\n",
            "dense_1 (Dense)              (None, 10)                330       \n",
            "=================================================================\n",
            "Total params: 25,450\n",
            "Trainable params: 25,450\n",
            "Non-trainable params: 0\n",
            "_________________________________________________________________\n"
          ],
          "name": "stdout"
        }
      ]
    },
    {
      "cell_type": "markdown",
      "metadata": {
        "id": "Y-PGMZogTZ2g",
        "colab_type": "text"
      },
      "source": [
        "#### Fit the model for defined number of epochs.\n",
        "Show the history of learning, evaluate the efficiency of the model."
      ]
    },
    {
      "cell_type": "code",
      "metadata": {
        "id": "mIJL18mKTZ2g",
        "colab_type": "code",
        "colab": {
          "base_uri": "https://localhost:8080/",
          "height": 688
        },
        "outputId": "f80ad875-c9d9-43e0-9548-fa5235fc4786"
      },
      "source": [
        "history = model.fit(train_x, train_y, validation_data=(valid_x, valid_y), epochs=10)\n",
        "\n",
        "show_history(history)\n",
        "\n",
        "test_loss, test_acc = model.evaluate(test_x, test_y)\n",
        "print('Test accuracy: ', test_acc)"
      ],
      "execution_count": 7,
      "outputs": [
        {
          "output_type": "stream",
          "text": [
            "Train on 48000 samples, validate on 12000 samples\n",
            "Epoch 1/10\n",
            "48000/48000 [==============================] - 3s 60us/sample - loss: 0.5723 - acc: 0.8027 - val_loss: 0.4649 - val_acc: 0.8374\n",
            "Epoch 2/10\n",
            "48000/48000 [==============================] - 3s 58us/sample - loss: 0.4311 - acc: 0.8496 - val_loss: 0.4222 - val_acc: 0.8487\n",
            "Epoch 3/10\n",
            "48000/48000 [==============================] - 3s 57us/sample - loss: 0.3993 - acc: 0.8581 - val_loss: 0.4021 - val_acc: 0.8577\n",
            "Epoch 4/10\n",
            "48000/48000 [==============================] - 3s 57us/sample - loss: 0.3733 - acc: 0.8666 - val_loss: 0.4008 - val_acc: 0.8575\n",
            "Epoch 5/10\n",
            "48000/48000 [==============================] - 3s 58us/sample - loss: 0.3558 - acc: 0.8725 - val_loss: 0.3682 - val_acc: 0.8683\n",
            "Epoch 6/10\n",
            "48000/48000 [==============================] - 3s 58us/sample - loss: 0.3421 - acc: 0.8780 - val_loss: 0.3713 - val_acc: 0.8687\n",
            "Epoch 7/10\n",
            "48000/48000 [==============================] - 3s 58us/sample - loss: 0.3292 - acc: 0.8813 - val_loss: 0.3563 - val_acc: 0.8734\n",
            "Epoch 8/10\n",
            "48000/48000 [==============================] - 3s 58us/sample - loss: 0.3212 - acc: 0.8838 - val_loss: 0.3526 - val_acc: 0.8741\n",
            "Epoch 9/10\n",
            "48000/48000 [==============================] - 3s 58us/sample - loss: 0.3119 - acc: 0.8869 - val_loss: 0.3539 - val_acc: 0.8760\n",
            "Epoch 10/10\n",
            "48000/48000 [==============================] - 3s 57us/sample - loss: 0.3036 - acc: 0.8887 - val_loss: 0.3685 - val_acc: 0.8724\n",
            "10000/10000 [==============================] - 0s 28us/sample - loss: 0.3878 - acc: 0.8646\n",
            "Test accuracy:  0.8646\n"
          ],
          "name": "stdout"
        },
        {
          "output_type": "display_data",
          "data": {
            "image/png": "[encoded data removed]",
            "text/plain": [
              "<Figure size 432x288 with 1 Axes>"
            ]
          },
          "metadata": {
            "tags": []
          }
        }
      ]
    },
    {
      "cell_type": "markdown",
      "metadata": {
        "id": "St_zHAIBTZ2j",
        "colab_type": "text"
      },
      "source": [
        "#### Vizualisation of the evaluation\n",
        "The function *predict* return the prediction for the defined input - a test set.\n",
        "\n",
        "The prediction in this case is a vector of probabilities foe each class.\n"
      ]
    },
    {
      "cell_type": "code",
      "metadata": {
        "id": "eGJsH8zCTZ2j",
        "colab_type": "code",
        "colab": {
          "base_uri": "https://localhost:8080/",
          "height": 51
        },
        "outputId": "7dbe6876-5433-415c-8911-60ffc0660a65"
      },
      "source": [
        "predictions = model.predict(test_x)\n",
        "\n",
        "print(predictions[0], np.argmax(predictions[0]))"
      ],
      "execution_count": 8,
      "outputs": [
        {
          "output_type": "stream",
          "text": [
            "[1.5690646e-05 3.2423682e-09 5.7186600e-05 5.0794151e-06 4.7074768e-06\n",
            " 2.6516941e-01 1.0573178e-04 5.4112665e-02 2.1352012e-04 6.8031603e-01] 9\n"
          ],
          "name": "stdout"
        }
      ]
    },
    {
      "cell_type": "markdown",
      "metadata": {
        "id": "hjDS3HS8TZ2n",
        "colab_type": "text"
      },
      "source": [
        "#### Vizualization of the confusion matrix."
      ]
    },
    {
      "cell_type": "code",
      "metadata": {
        "id": "wTRhjH2wTZ2o",
        "colab_type": "code",
        "colab": {
          "base_uri": "https://localhost:8080/",
          "height": 729
        },
        "outputId": "321797de-ff03-4944-a9c4-5479e8b2b9ea"
      },
      "source": [
        "conf_matrix = np.zeros((class_count, class_count))\n",
        "for idx, pred in enumerate(predictions):\n",
        "    row = test_y[idx]\n",
        "    col = np.argmax(pred)\n",
        "    conf_matrix[row, col] += 1\n",
        "\n",
        "\n",
        "# print(conf_matrix)\n",
        "conf_matrix = normalize(conf_matrix, axis=1, norm='l1')\n",
        "# print(conf_matrix)\n",
        "\n",
        "plt.figure(figsize=(class_count,class_count))\n",
        "\n",
        "plt.imshow(conf_matrix)\n",
        "\n",
        "for i in range(conf_matrix.shape[0]):\n",
        "    for j in range(conf_matrix.shape[1]):\n",
        "        text = plt.text(j, i, \"{:.2f}\".format(conf_matrix[i, j]), ha=\"center\", va=\"center\", color=\"w\")\n",
        "\n",
        "plt.tight_layout()\n",
        "plt.show()     "
      ],
      "execution_count": 9,
      "outputs": [
        {
          "output_type": "display_data",
          "data": {
            "image/png": "[encoded data removed]",
            "text/plain": [
              "<Figure size 720x720 with 1 Axes>"
            ]
          },
          "metadata": {
            "tags": []
          }
        }
      ]
    },
    {
      "cell_type": "markdown",
      "metadata": {
        "id": "Av-ot4E7TZ2q",
        "colab_type": "text"
      },
      "source": [
        "### Save and Load of the model\n",
        "The model I/O works as follows. The topology of the model is usually stored separately from the weights. The reason is that the topology is usually used once, but the weights are used frequently and their develop during the learning process. \n",
        "\n",
        "The topology is stored as JSON file format, as is demonstrated later in more human readable form. As you may see, the document os very simple and just summarize the layers and its types - app parameters set during the model creation.\n",
        "\n",
        "The weights are stored using the HDF5 file format a format developed for fast unlimited storage with portable and distributable capabilities. "
      ]
    },
    {
      "cell_type": "code",
      "metadata": {
        "id": "2F6L-gF2TZ2r",
        "colab_type": "code",
        "colab": {
          "base_uri": "https://localhost:8080/",
          "height": 34
        },
        "outputId": "7f7168c7-5632-4246-c090-2fc078f2e8d4"
      },
      "source": [
        "file_model = 'out/model.json'\n",
        "file_weight = 'out/model.h5'\n",
        "\n",
        "# serialize model to JSON\n",
        "model_json = model.to_json()\n",
        "with open(file_model, \"w\") as json_file:\n",
        "    json_file.write(model_json)\n",
        "# serialize weights to HDF5\n",
        "model.save_weights(file_weight)\n",
        "print(\"Saved model to disk\")"
      ],
      "execution_count": 11,
      "outputs": [
        {
          "output_type": "stream",
          "text": [
            "Saved model to disk\n"
          ],
          "name": "stdout"
        }
      ]
    },
    {
      "cell_type": "markdown",
      "metadata": {
        "id": "H8FXGo4DTZ2t",
        "colab_type": "text"
      },
      "source": [
        "```json\n",
        "{\n",
        "    \"class_name\": \"Sequential\",\n",
        "    \"config\": {\n",
        "        \"name\": \"sequential\",\n",
        "        \"layers\": [\n",
        "            {\n",
        "                \"class_name\": \"Flatten\",\n",
        "                \"config\": {\n",
        "                    \"name\": \"flatten\",\n",
        "                    \"trainable\": true,\n",
        "                    \"batch_input_shape\": [\n",
        "                        null,\n",
        "                        28,\n",
        "                        28\n",
        "                    ],\n",
        "                    \"dtype\": \"float32\",\n",
        "                    \"data_format\": \"channels_last\"\n",
        "                }\n",
        "            },\n",
        "            {\n",
        "                \"class_name\": \"Dense\",\n",
        "                \"config\": {\n",
        "                    \"name\": \"dense\",\n",
        "                    \"trainable\": true,\n",
        "                    \"dtype\": \"float32\",\n",
        "                    \"units\": 32,\n",
        "                    \"activation\": \"relu\",\n",
        "                    \"use_bias\": true,\n",
        "                    \"kernel_initializer\": {\n",
        "                        \"class_name\": \"GlorotUniform\",\n",
        "                        \"config\": {\n",
        "                            \"seed\": null\n",
        "                        }\n",
        "                    },\n",
        "                    \"bias_initializer\": {\n",
        "                        \"class_name\": \"Zeros\",\n",
        "                        \"config\": {}\n",
        "                    },\n",
        "                    \"kernel_regularizer\": null,\n",
        "                    \"bias_regularizer\": null,\n",
        "                    \"activity_regularizer\": null,\n",
        "                    \"kernel_constraint\": null,\n",
        "                    \"bias_constraint\": null\n",
        "                }\n",
        "            },\n",
        "            {\n",
        "                \"class_name\": \"Dense\",\n",
        "                \"config\": {\n",
        "                    \"name\": \"dense_1\",\n",
        "                    \"trainable\": true,\n",
        "                    \"dtype\": \"float32\",\n",
        "                    \"units\": 10,\n",
        "                    \"activation\": \"softmax\",\n",
        "                    \"use_bias\": true,\n",
        "                    \"kernel_initializer\": {\n",
        "                        \"class_name\": \"GlorotUniform\",\n",
        "                        \"config\": {\n",
        "                            \"seed\": null\n",
        "                        }\n",
        "                    },\n",
        "                    \"bias_initializer\": {\n",
        "                        \"class_name\": \"Zeros\",\n",
        "                        \"config\": {}\n",
        "                    },\n",
        "                    \"kernel_regularizer\": null,\n",
        "                    \"bias_regularizer\": null,\n",
        "                    \"activity_regularizer\": null,\n",
        "                    \"kernel_constraint\": null,\n",
        "                    \"bias_constraint\": null\n",
        "                }\n",
        "            }\n",
        "        ]\n",
        "    },\n",
        "    \"keras_version\": \"2.2.4-tf\",\n",
        "    \"backend\": \"tensorflow\"\n",
        "}\n",
        "```"
      ]
    },
    {
      "cell_type": "markdown",
      "metadata": {
        "id": "0zh-4ZvoTZ2u",
        "colab_type": "text"
      },
      "source": [
        "### Loading model\n",
        "The model is also loadable separatelly. Topology and weights. "
      ]
    },
    {
      "cell_type": "code",
      "metadata": {
        "id": "5djmz7SUTZ2u",
        "colab_type": "code",
        "colab": {
          "base_uri": "https://localhost:8080/",
          "height": 156
        },
        "outputId": "7b668514-eea9-4cb8-a61b-ce2b124e3e05"
      },
      "source": [
        "# load json and create model\n",
        "json_file = open('out/model.json', 'r')\n",
        "loaded_model_json = json_file.read()\n",
        "json_file.close()\n",
        "loaded_model = keras.models.model_from_json(loaded_model_json)\n",
        "# load weights into new model\n",
        "loaded_model.load_weights(\"out/model.h5\")\n",
        "print(\"Loaded model from disk\")"
      ],
      "execution_count": 12,
      "outputs": [
        {
          "output_type": "stream",
          "text": [
            "WARNING:tensorflow:From /usr/local/lib/python3.6/dist-packages/tensorflow_core/python/ops/init_ops.py:97: calling GlorotUniform.__init__ (from tensorflow.python.ops.init_ops) with dtype is deprecated and will be removed in a future version.\n",
            "Instructions for updating:\n",
            "Call initializer instance with the dtype argument instead of passing it to the constructor\n",
            "WARNING:tensorflow:From /usr/local/lib/python3.6/dist-packages/tensorflow_core/python/ops/init_ops.py:97: calling Zeros.__init__ (from tensorflow.python.ops.init_ops) with dtype is deprecated and will be removed in a future version.\n",
            "Instructions for updating:\n",
            "Call initializer instance with the dtype argument instead of passing it to the constructor\n",
            "Loaded model from disk\n"
          ],
          "name": "stdout"
        }
      ]
    },
    {
      "cell_type": "markdown",
      "metadata": {
        "id": "OSkJOcXSTZ2w",
        "colab_type": "text"
      },
      "source": [
        "The model need to be compiled to be applicable to the data.As you may see the summary of the model is the same as was for the previous one."
      ]
    },
    {
      "cell_type": "code",
      "metadata": {
        "id": "bCCnrX7_TZ2x",
        "colab_type": "code",
        "colab": {
          "base_uri": "https://localhost:8080/",
          "height": 255
        },
        "outputId": "8e80de4e-e704-4996-ff77-82f77423bdeb"
      },
      "source": [
        "loaded_model.compile(loss=keras.losses.SparseCategoricalCrossentropy(from_logits=False),\n",
        "              optimizer='adam',\n",
        "              metrics=['accuracy'])\n",
        "\n",
        "loaded_model.summary()"
      ],
      "execution_count": 13,
      "outputs": [
        {
          "output_type": "stream",
          "text": [
            "Model: \"sequential\"\n",
            "_________________________________________________________________\n",
            "Layer (type)                 Output Shape              Param #   \n",
            "=================================================================\n",
            "flatten (Flatten)            (None, 784)               0         \n",
            "_________________________________________________________________\n",
            "dense (Dense)                (None, 32)                25120     \n",
            "_________________________________________________________________\n",
            "dense_1 (Dense)              (None, 10)                330       \n",
            "=================================================================\n",
            "Total params: 25,450\n",
            "Trainable params: 25,450\n",
            "Non-trainable params: 0\n",
            "_________________________________________________________________\n"
          ],
          "name": "stdout"
        }
      ]
    },
    {
      "cell_type": "markdown",
      "metadata": {
        "id": "JGRQsO9ATZ20",
        "colab_type": "text"
      },
      "source": [
        "Evaluation of the model has the same results like the stored one."
      ]
    },
    {
      "cell_type": "code",
      "metadata": {
        "id": "QT5lHL9NTZ21",
        "colab_type": "code",
        "colab": {},
        "outputId": "4dabd5bd-ab65-422c-fe2c-b8e187640e3a"
      },
      "source": [
        "test_loss, test_acc = loaded_model.evaluate(test_x, test_y)\n",
        "print('Test accuracy: ', test_acc)"
      ],
      "execution_count": 0,
      "outputs": [
        {
          "output_type": "stream",
          "text": [
            "====================================================================================================================================================================================================================================================================================================================================================================================================================================================================================================================================================================================================================================================================================================================================================================================================================================================================================================================================================================================================================================================================================================================================================================================================================================================================================================================================================================================================================================================================================================================================================================================================================================================================================================================================================================================================================================================================================================================================================================================================================================================================================================================================================================================================================================================================================================================================================================================================================================================================================================================================================================================================================================================================================================================================================================================================================================================================================================================================================================================================================================================================================================================================================================================================================================================================================================================================================================================================================================================================================================================================================================================================================================================================================================================================================================================================================================================================================================================================================================================================================================================================================================================================================================================================================================================================================================================================================================================================================================================================================================================================================================================================================================================================================================================================================================================================================================================================================================================================================================================================================================================================================================================================================================================================================================================================================================================================================================================================================================================================================================================================================================================================================================================================================================================================================================================================================================================================================================================================================================================================================================================================================================================================================================================================================================================================================================================================================================================================================================================================================================================================================================================================================================================================================================================================================================================================================================================================================================================================================================================================================================================================================================================================================================================================================================================================================================================================================================================================================================================================================================================================================================================================================================================================================================================================================================================================================================================================================================================================================================================================================================================================================================================================================================================================================================================================================================================================================================================================================================================================================================================================================================================================================================================================================================================================================================================================================================================================================================================================================================================================================================================================================================================================================================================================================================================================================================================================================================================================================================================================================================================================================================================================================================================================================================================================================================================================================================================================================================================================================================================================================================================================================================================================================================================================================================================================================================================================================================================================================================================================================================================================================================================================================================================================================================================================================================================================================================================================================================================================================================================================================================================================================================================================================================================================================================================================================================================================================================================================================================================================================================================================================================================================================================================================================================================================================================================================================================================================================================================================================================================================================================================================================================================================================================================================================================================================================================================================================================================================================================================================================================================================================================================================================================================================================================================================================================================================================================================================================================================================================================================================================================================================================================================================================================================================================================================================================================================================================================================================================================================================================================================================================================================================================================================================================================================================================================================================================================================================================================================================================================================================================================================================================================================================================================================================================================================================================================================================================================================================================================================================================================================================================================================================================================================================================================================================================================================================================================================================================================================================================================================================================================================================================================================================================================================================================================================================================================================================================================================================================================================================================================================================================================================================================================================================================================================================================================================================================================================================================================================================================================================================================================================================================================================================================================================================================================================================================================================================================================================================================================================================================================================================================================================================================================================================================================================================================================================================================================================================================================================================================================================================================================================================================================================================================================================================================================================================================================================================================================================================================================================================================================================================================================================================================================================================================================================================================================================================================================================================================================================================================================================================================================================================================================================================================================================================================================================================================================================================================================================================================================================================================================================================================================================================================================================================================================================================================================================================================================================================================================================================================================================================================================================================================================================================================================================================================================================================================================================================================================================================================================================================================================================================================================================================================================================================================================================================================================================================================================================================================================================================================================================================================================================================================================================================================================================================================================================================================================================================================================================================================================================================================================================================================================================================================================================================================================================================================] - 0s 46us/sample - loss: 0.2519 - accuracy: 0.8707\n",
            "Test accuracy:  0.8707\n"
          ],
          "name": "stdout"
        }
      ]
    },
    {
      "cell_type": "markdown",
      "metadata": {
        "id": "vg4B_-D1TZ23",
        "colab_type": "text"
      },
      "source": [
        "## Tasks for Lecture \n",
        "1. THe task here will be focused on the usage of some [CallBacks](https://keras.io/callbacks/) from the keras API which is intended to monitor learning process. The major ones are *ModelCheckpoint* and *EarlyStopping*.\n",
        "2. [Transfer learning](https://towardsdatascience.com/a-comprehensive-hands-on-guide-to-transfer-learning-with-real-world-applications-in-deep-learning-212bf3b2f27a) is a method for reusing a prepared model from some type of dataset to new dataset. The usage of that model has many advantages. Lets go throug the link attached and read the description.\n",
        "   * The problem will be demonstrated in the MNIST dataset (from the previous lecture).\n",
        "   * The model trained on the FashionMnist will be reused on the Mnist dataset.\n",
        "   * The first layers will be deactivated for training and model will be compiled.\n",
        "   * The last layer will be trained on the new dataset and the result uses the knowledge from the previous learning.\n",
        "3. Desing a model which will be able to classify **FashionMnist** with accuracy higher than **92%**."
      ]
    },
    {
      "cell_type": "code",
      "metadata": {
        "id": "t60zK88lTZ24",
        "colab_type": "code",
        "colab": {}
      },
      "source": [
        "model = keras.Sequential([\n",
        "    keras.layers.Flatten(input_shape=(28, 28)),\n",
        "    keras.layers.Dense(32, activation=tf.nn.relu), \n",
        "    keras.layers.Dense(class_count, activation=tf.nn.softmax),\n",
        "])\n",
        "\n",
        "# model.summary()\n",
        "model.compile(loss=keras.losses.SparseCategoricalCrossentropy(from_logits=False),\n",
        "              optimizer='adam',\n",
        "              metrics=['accuracy'])"
      ],
      "execution_count": 0,
      "outputs": []
    },
    {
      "cell_type": "code",
      "metadata": {
        "id": "J01rauTlYvW9",
        "colab_type": "code",
        "colab": {}
      },
      "source": [
        ""
      ],
      "execution_count": 0,
      "outputs": []
    },
    {
      "cell_type": "code",
      "metadata": {
        "id": "JIN5r4wCTZ26",
        "colab_type": "code",
        "colab": {
          "base_uri": "https://localhost:8080/",
          "height": 714
        },
        "outputId": "9c354c71-cecf-4162-ced3-449656791973"
      },
      "source": [
        "checkopointCallback = keras.callbacks.ModelCheckpoint('out/', monitor='val_loss', verbose=0, \n",
        "                                                      save_best_only=False, save_weights_only=True, mode='auto', \n",
        "                                                      save_freq=1)\n",
        "\n",
        "\n",
        "earlyStopCallback = keras.callbacks.EarlyStopping(monitor='val_loss', min_delta=0, patience=5, \n",
        "                                                    verbose=1, mode='auto', baseline=None, restore_best_weights=True)\n",
        "\n",
        "\n",
        "history = model.fit(train_x, train_y, validation_data=(valid_x, valid_y), epochs=20, callbacks=[checkopointCallback])"
      ],
      "execution_count": 21,
      "outputs": [
        {
          "output_type": "stream",
          "text": [
            "Train on 48000 samples, validate on 12000 samples\n",
            "Epoch 1/20\n",
            "48000/48000 [==============================] - 16s 323us/sample - loss: 0.5677 - acc: 0.8066 - val_loss: 0.4515 - val_acc: 0.8416\n",
            "Epoch 2/20\n",
            "48000/48000 [==============================] - 16s 332us/sample - loss: 0.4283 - acc: 0.8521 - val_loss: 0.4483 - val_acc: 0.8427\n",
            "Epoch 3/20\n",
            "48000/48000 [==============================] - 16s 336us/sample - loss: 0.3960 - acc: 0.8604 - val_loss: 0.3978 - val_acc: 0.8614\n",
            "Epoch 4/20\n",
            "48000/48000 [==============================] - 16s 328us/sample - loss: 0.3722 - acc: 0.8669 - val_loss: 0.3766 - val_acc: 0.8662\n",
            "Epoch 5/20\n",
            "48000/48000 [==============================] - 16s 334us/sample - loss: 0.3549 - acc: 0.8733 - val_loss: 0.3688 - val_acc: 0.8713\n",
            "Epoch 6/20\n",
            "48000/48000 [==============================] - 16s 335us/sample - loss: 0.3389 - acc: 0.8774 - val_loss: 0.3895 - val_acc: 0.8640\n",
            "Epoch 7/20\n",
            "48000/48000 [==============================] - 16s 332us/sample - loss: 0.3280 - acc: 0.8810 - val_loss: 0.3797 - val_acc: 0.8684\n",
            "Epoch 8/20\n",
            "48000/48000 [==============================] - 16s 333us/sample - loss: 0.3178 - acc: 0.8860 - val_loss: 0.3630 - val_acc: 0.8749\n",
            "Epoch 9/20\n",
            "48000/48000 [==============================] - 15s 322us/sample - loss: 0.3087 - acc: 0.8880 - val_loss: 0.3487 - val_acc: 0.8749\n",
            "Epoch 10/20\n",
            "48000/48000 [==============================] - 16s 324us/sample - loss: 0.3037 - acc: 0.8890 - val_loss: 0.3473 - val_acc: 0.8783\n",
            "Epoch 11/20\n",
            "48000/48000 [==============================] - 16s 327us/sample - loss: 0.2960 - acc: 0.8916 - val_loss: 0.3569 - val_acc: 0.8736\n",
            "Epoch 12/20\n",
            "48000/48000 [==============================] - 15s 321us/sample - loss: 0.2888 - acc: 0.8945 - val_loss: 0.3449 - val_acc: 0.8820\n",
            "Epoch 13/20\n",
            "48000/48000 [==============================] - 15s 314us/sample - loss: 0.2822 - acc: 0.8964 - val_loss: 0.3491 - val_acc: 0.8764\n",
            "Epoch 14/20\n",
            "48000/48000 [==============================] - 16s 339us/sample - loss: 0.2784 - acc: 0.8983 - val_loss: 0.3489 - val_acc: 0.8767\n",
            "Epoch 15/20\n",
            "48000/48000 [==============================] - 16s 332us/sample - loss: 0.2751 - acc: 0.8981 - val_loss: 0.3775 - val_acc: 0.8676\n",
            "Epoch 16/20\n",
            "48000/48000 [==============================] - 16s 336us/sample - loss: 0.2675 - acc: 0.9020 - val_loss: 0.3541 - val_acc: 0.8788\n",
            "Epoch 17/20\n",
            "48000/48000 [==============================] - 16s 329us/sample - loss: 0.2653 - acc: 0.9014 - val_loss: 0.3617 - val_acc: 0.8748\n",
            "Epoch 18/20\n",
            "48000/48000 [==============================] - 16s 335us/sample - loss: 0.2599 - acc: 0.9041 - val_loss: 0.3580 - val_acc: 0.8769\n",
            "Epoch 19/20\n",
            "48000/48000 [==============================] - 16s 344us/sample - loss: 0.2556 - acc: 0.9058 - val_loss: 0.3550 - val_acc: 0.8777\n",
            "Epoch 20/20\n",
            "48000/48000 [==============================] - 16s 339us/sample - loss: 0.2533 - acc: 0.9055 - val_loss: 0.3524 - val_acc: 0.8786\n"
          ],
          "name": "stdout"
        }
      ]
    },
    {
      "cell_type": "code",
      "metadata": {
        "id": "wQTDd8dnVsgm",
        "colab_type": "code",
        "colab": {
          "base_uri": "https://localhost:8080/",
          "height": 51
        },
        "outputId": "fc005855-8651-4e89-ee45-cf703b71165d"
      },
      "source": [
        "test_loss, test_acc = model.evaluate(test_x, test_y)\n",
        "print('Test accuracy: ', test_acc)"
      ],
      "execution_count": 22,
      "outputs": [
        {
          "output_type": "stream",
          "text": [
            "10000/10000 [==============================] - 0s 30us/sample - loss: 0.3711 - acc: 0.8690\n",
            "Test accuracy:  0.869\n"
          ],
          "name": "stdout"
        }
      ]
    },
    {
      "cell_type": "code",
      "metadata": {
        "id": "2rSEE4YlZiqp",
        "colab_type": "code",
        "colab": {
          "base_uri": "https://localhost:8080/",
          "height": 102
        },
        "outputId": "8e9b2b39-a75a-47ef-d7cc-1b138dc25600"
      },
      "source": [
        "mnist = tf.keras.datasets.mnist\n",
        "\n",
        "(x_train, y_train), (x_test, y_test) = mnist.load_data()\n",
        "\n",
        "\n",
        "# The conversion into range 0-1 is done by the division\n",
        "x_train, x_test = x_train / 255.0, x_test / 255.0\n",
        "x_train, x_valid, y_train, y_valid = train_test_split(x_train, y_train, test_size=0.2, random_state=42)\n",
        "print('Train data shape: ', x_train.shape)\n",
        "print('Valid data shape: ', x_valid.shape)\n",
        "print('Test data shape:  ', x_test.shape)"
      ],
      "execution_count": 23,
      "outputs": [
        {
          "output_type": "stream",
          "text": [
            "Downloading data from https://storage.googleapis.com/tensorflow/tf-keras-datasets/mnist.npz\n",
            "11493376/11490434 [==============================] - 0s 0us/step\n",
            "Train data shape:  (48000, 28, 28)\n",
            "Valid data shape:  (12000, 28, 28)\n",
            "Test data shape:   (10000, 28, 28)\n"
          ],
          "name": "stdout"
        }
      ]
    },
    {
      "cell_type": "code",
      "metadata": {
        "id": "O55nk6rsZxPc",
        "colab_type": "code",
        "colab": {
          "base_uri": "https://localhost:8080/",
          "height": 493
        },
        "outputId": "acd3a63c-49dc-46bc-cbdd-e0ec6eef05f9"
      },
      "source": [
        "model.summary()\n",
        "\n",
        "model.layers[0].trainable = False;\n",
        "model.layers[1].trainable = False;\n",
        "\n",
        "model.compile(loss=keras.losses.SparseCategoricalCrossentropy(from_logits=False),\n",
        "              optimizer='adam',\n",
        "              metrics=['accuracy'])\n",
        "\n",
        "model.summary()"
      ],
      "execution_count": 24,
      "outputs": [
        {
          "output_type": "stream",
          "text": [
            "Model: \"sequential_3\"\n",
            "_________________________________________________________________\n",
            "Layer (type)                 Output Shape              Param #   \n",
            "=================================================================\n",
            "flatten_3 (Flatten)          (None, 784)               0         \n",
            "_________________________________________________________________\n",
            "dense_6 (Dense)              (None, 32)                25120     \n",
            "_________________________________________________________________\n",
            "dense_7 (Dense)              (None, 10)                330       \n",
            "=================================================================\n",
            "Total params: 25,450\n",
            "Trainable params: 25,450\n",
            "Non-trainable params: 0\n",
            "_________________________________________________________________\n",
            "Model: \"sequential_3\"\n",
            "_________________________________________________________________\n",
            "Layer (type)                 Output Shape              Param #   \n",
            "=================================================================\n",
            "flatten_3 (Flatten)          (None, 784)               0         \n",
            "_________________________________________________________________\n",
            "dense_6 (Dense)              (None, 32)                25120     \n",
            "_________________________________________________________________\n",
            "dense_7 (Dense)              (None, 10)                330       \n",
            "=================================================================\n",
            "Total params: 25,450\n",
            "Trainable params: 330\n",
            "Non-trainable params: 25,120\n",
            "_________________________________________________________________\n"
          ],
          "name": "stdout"
        }
      ]
    },
    {
      "cell_type": "code",
      "metadata": {
        "id": "UOZu-Y84aWNs",
        "colab_type": "code",
        "colab": {
          "base_uri": "https://localhost:8080/",
          "height": 994
        },
        "outputId": "0d579591-9c57-477b-bca9-79e2c54563c0"
      },
      "source": [
        "mnistHistory = model.fit(x_train, y_train, validation_data=(x_valid, y_valid), epochs=20)\n",
        "show_history(mnistHistory)"
      ],
      "execution_count": 27,
      "outputs": [
        {
          "output_type": "stream",
          "text": [
            "Train on 48000 samples, validate on 12000 samples\n",
            "Epoch 1/20\n",
            "48000/48000 [==============================] - 2s 46us/sample - loss: 0.7372 - acc: 0.7676 - val_loss: 0.7516 - val_acc: 0.7635\n",
            "Epoch 2/20\n",
            "48000/48000 [==============================] - 2s 51us/sample - loss: 0.7357 - acc: 0.7685 - val_loss: 0.7529 - val_acc: 0.7637\n",
            "Epoch 3/20\n",
            "48000/48000 [==============================] - 2s 46us/sample - loss: 0.7354 - acc: 0.7681 - val_loss: 0.7545 - val_acc: 0.7614\n",
            "Epoch 4/20\n",
            "48000/48000 [==============================] - 2s 47us/sample - loss: 0.7346 - acc: 0.7686 - val_loss: 0.7518 - val_acc: 0.7635\n",
            "Epoch 5/20\n",
            "48000/48000 [==============================] - 2s 48us/sample - loss: 0.7340 - acc: 0.7690 - val_loss: 0.7532 - val_acc: 0.7623\n",
            "Epoch 6/20\n",
            "48000/48000 [==============================] - 2s 47us/sample - loss: 0.7339 - acc: 0.7681 - val_loss: 0.7504 - val_acc: 0.7651\n",
            "Epoch 7/20\n",
            "48000/48000 [==============================] - 2s 47us/sample - loss: 0.7334 - acc: 0.7691 - val_loss: 0.7496 - val_acc: 0.7636\n",
            "Epoch 8/20\n",
            "48000/48000 [==============================] - 2s 47us/sample - loss: 0.7330 - acc: 0.7686 - val_loss: 0.7501 - val_acc: 0.7647\n",
            "Epoch 9/20\n",
            "48000/48000 [==============================] - 2s 48us/sample - loss: 0.7326 - acc: 0.7685 - val_loss: 0.7502 - val_acc: 0.7619\n",
            "Epoch 10/20\n",
            "48000/48000 [==============================] - 2s 48us/sample - loss: 0.7325 - acc: 0.7693 - val_loss: 0.7481 - val_acc: 0.7639\n",
            "Epoch 11/20\n",
            "48000/48000 [==============================] - 2s 47us/sample - loss: 0.7319 - acc: 0.7695 - val_loss: 0.7494 - val_acc: 0.7647\n",
            "Epoch 12/20\n",
            "48000/48000 [==============================] - 2s 46us/sample - loss: 0.7320 - acc: 0.7691 - val_loss: 0.7480 - val_acc: 0.7633\n",
            "Epoch 13/20\n",
            "48000/48000 [==============================] - 2s 47us/sample - loss: 0.7319 - acc: 0.7693 - val_loss: 0.7500 - val_acc: 0.7634\n",
            "Epoch 14/20\n",
            "48000/48000 [==============================] - 2s 47us/sample - loss: 0.7315 - acc: 0.7698 - val_loss: 0.7487 - val_acc: 0.7654\n",
            "Epoch 15/20\n",
            "48000/48000 [==============================] - 2s 48us/sample - loss: 0.7313 - acc: 0.7693 - val_loss: 0.7491 - val_acc: 0.7637\n",
            "Epoch 16/20\n",
            "48000/48000 [==============================] - 2s 48us/sample - loss: 0.7310 - acc: 0.7694 - val_loss: 0.7464 - val_acc: 0.7653\n",
            "Epoch 17/20\n",
            "48000/48000 [==============================] - 2s 48us/sample - loss: 0.7311 - acc: 0.7697 - val_loss: 0.7468 - val_acc: 0.7632\n",
            "Epoch 18/20\n",
            "48000/48000 [==============================] - 2s 47us/sample - loss: 0.7310 - acc: 0.7690 - val_loss: 0.7466 - val_acc: 0.7638\n",
            "Epoch 19/20\n",
            "48000/48000 [==============================] - 2s 48us/sample - loss: 0.7309 - acc: 0.7691 - val_loss: 0.7475 - val_acc: 0.7664\n",
            "Epoch 20/20\n",
            "48000/48000 [==============================] - 2s 46us/sample - loss: 0.7311 - acc: 0.7698 - val_loss: 0.7470 - val_acc: 0.7662\n"
          ],
          "name": "stdout"
        },
        {
          "output_type": "display_data",
          "data": {
            "image/png": "[encoded data removed]",
            "text/plain": [
              "<Figure size 432x288 with 1 Axes>"
            ]
          },
          "metadata": {
            "tags": []
          }
        }
      ]
    },
    {
      "cell_type": "code",
      "metadata": {
        "id": "c12aH90rbRTn",
        "colab_type": "code",
        "colab": {
          "base_uri": "https://localhost:8080/",
          "height": 340
        },
        "outputId": "4b7d1032-6bea-4149-ee5f-b82dca51a3a8"
      },
      "source": [
        "(mnist_test_loss, mnist_test_accuracy) = model.predict(x_test, y_test)\n",
        "print('Mnist Test loss: ', mnist_test_loss)\n",
        "print('Mnist Test accuracy: ', mnist_test_accuracy)"
      ],
      "execution_count": 30,
      "outputs": [
        {
          "output_type": "error",
          "ename": "TypeError",
          "evalue": "ignored",
          "traceback": [
            "\u001b[0;31m---------------------------------------------------------------------------\u001b[0m",
            "\u001b[0;31mTypeError\u001b[0m                                 Traceback (most recent call last)",
            "\u001b[0;32m<ipython-input-30-464402b823c6>\u001b[0m in \u001b[0;36m<module>\u001b[0;34m()\u001b[0m\n\u001b[0;32m----> 1\u001b[0;31m \u001b[0;34m(\u001b[0m\u001b[0mmnist_test_loss\u001b[0m\u001b[0;34m,\u001b[0m \u001b[0mmnist_test_accuracy\u001b[0m\u001b[0;34m)\u001b[0m \u001b[0;34m=\u001b[0m \u001b[0mmodel\u001b[0m\u001b[0;34m.\u001b[0m\u001b[0mpredict\u001b[0m\u001b[0;34m(\u001b[0m\u001b[0mx_test\u001b[0m\u001b[0;34m,\u001b[0m \u001b[0my_test\u001b[0m\u001b[0;34m)\u001b[0m\u001b[0;34m\u001b[0m\u001b[0;34m\u001b[0m\u001b[0m\n\u001b[0m\u001b[1;32m      2\u001b[0m \u001b[0mprint\u001b[0m\u001b[0;34m(\u001b[0m\u001b[0;34m'Mnist Test loss: '\u001b[0m\u001b[0;34m,\u001b[0m \u001b[0mmnist_test_loss\u001b[0m\u001b[0;34m)\u001b[0m\u001b[0;34m\u001b[0m\u001b[0;34m\u001b[0m\u001b[0m\n\u001b[1;32m      3\u001b[0m \u001b[0mprint\u001b[0m\u001b[0;34m(\u001b[0m\u001b[0;34m'Mnist Test accuracy: '\u001b[0m\u001b[0;34m,\u001b[0m \u001b[0mmnist_test_accuracy\u001b[0m\u001b[0;34m)\u001b[0m\u001b[0;34m\u001b[0m\u001b[0;34m\u001b[0m\u001b[0m\n",
            "\u001b[0;32m/usr/local/lib/python3.6/dist-packages/tensorflow_core/python/keras/engine/training.py\u001b[0m in \u001b[0;36mpredict\u001b[0;34m(self, x, batch_size, verbose, steps, callbacks, max_queue_size, workers, use_multiprocessing)\u001b[0m\n\u001b[1;32m    906\u001b[0m         \u001b[0mmax_queue_size\u001b[0m\u001b[0;34m=\u001b[0m\u001b[0mmax_queue_size\u001b[0m\u001b[0;34m,\u001b[0m\u001b[0;34m\u001b[0m\u001b[0;34m\u001b[0m\u001b[0m\n\u001b[1;32m    907\u001b[0m         \u001b[0mworkers\u001b[0m\u001b[0;34m=\u001b[0m\u001b[0mworkers\u001b[0m\u001b[0;34m,\u001b[0m\u001b[0;34m\u001b[0m\u001b[0;34m\u001b[0m\u001b[0m\n\u001b[0;32m--> 908\u001b[0;31m         use_multiprocessing=use_multiprocessing)\n\u001b[0m\u001b[1;32m    909\u001b[0m \u001b[0;34m\u001b[0m\u001b[0m\n\u001b[1;32m    910\u001b[0m   \u001b[0;32mdef\u001b[0m \u001b[0mreset_metrics\u001b[0m\u001b[0;34m(\u001b[0m\u001b[0mself\u001b[0m\u001b[0;34m)\u001b[0m\u001b[0;34m:\u001b[0m\u001b[0;34m\u001b[0m\u001b[0;34m\u001b[0m\u001b[0m\n",
            "\u001b[0;32m/usr/local/lib/python3.6/dist-packages/tensorflow_core/python/keras/engine/training_arrays.py\u001b[0m in \u001b[0;36mpredict\u001b[0;34m(self, model, x, batch_size, verbose, steps, callbacks, **kwargs)\u001b[0m\n\u001b[1;32m    721\u001b[0m         \u001b[0mverbose\u001b[0m\u001b[0;34m=\u001b[0m\u001b[0mverbose\u001b[0m\u001b[0;34m,\u001b[0m\u001b[0;34m\u001b[0m\u001b[0;34m\u001b[0m\u001b[0m\n\u001b[1;32m    722\u001b[0m         \u001b[0msteps\u001b[0m\u001b[0;34m=\u001b[0m\u001b[0msteps\u001b[0m\u001b[0;34m,\u001b[0m\u001b[0;34m\u001b[0m\u001b[0;34m\u001b[0m\u001b[0m\n\u001b[0;32m--> 723\u001b[0;31m         callbacks=callbacks)\n\u001b[0m",
            "\u001b[0;32m/usr/local/lib/python3.6/dist-packages/tensorflow_core/python/keras/engine/training_arrays.py\u001b[0m in \u001b[0;36mmodel_iteration\u001b[0;34m(model, inputs, targets, sample_weights, batch_size, epochs, verbose, callbacks, val_inputs, val_targets, val_sample_weights, shuffle, initial_epoch, steps_per_epoch, validation_steps, validation_freq, mode, validation_in_fit, prepared_feed_values_from_dataset, steps_name, **kwargs)\u001b[0m\n\u001b[1;32m    359\u001b[0m       \u001b[0;32melif\u001b[0m \u001b[0mshuffle\u001b[0m\u001b[0;34m:\u001b[0m\u001b[0;34m\u001b[0m\u001b[0;34m\u001b[0m\u001b[0m\n\u001b[1;32m    360\u001b[0m         \u001b[0mnp\u001b[0m\u001b[0;34m.\u001b[0m\u001b[0mrandom\u001b[0m\u001b[0;34m.\u001b[0m\u001b[0mshuffle\u001b[0m\u001b[0;34m(\u001b[0m\u001b[0mindex_array\u001b[0m\u001b[0;34m)\u001b[0m\u001b[0;34m\u001b[0m\u001b[0;34m\u001b[0m\u001b[0m\n\u001b[0;32m--> 361\u001b[0;31m       \u001b[0mbatches\u001b[0m \u001b[0;34m=\u001b[0m \u001b[0mmake_batches\u001b[0m\u001b[0;34m(\u001b[0m\u001b[0mnum_samples_or_steps\u001b[0m\u001b[0;34m,\u001b[0m \u001b[0mbatch_size\u001b[0m\u001b[0;34m)\u001b[0m\u001b[0;34m\u001b[0m\u001b[0;34m\u001b[0m\u001b[0m\n\u001b[0m\u001b[1;32m    362\u001b[0m       \u001b[0;32mfor\u001b[0m \u001b[0mbatch_index\u001b[0m\u001b[0;34m,\u001b[0m \u001b[0;34m(\u001b[0m\u001b[0mbatch_start\u001b[0m\u001b[0;34m,\u001b[0m \u001b[0mbatch_end\u001b[0m\u001b[0;34m)\u001b[0m \u001b[0;32min\u001b[0m \u001b[0menumerate\u001b[0m\u001b[0;34m(\u001b[0m\u001b[0mbatches\u001b[0m\u001b[0;34m)\u001b[0m\u001b[0;34m:\u001b[0m\u001b[0;34m\u001b[0m\u001b[0;34m\u001b[0m\u001b[0m\n\u001b[1;32m    363\u001b[0m         \u001b[0mbatch_ids\u001b[0m \u001b[0;34m=\u001b[0m \u001b[0mindex_array\u001b[0m\u001b[0;34m[\u001b[0m\u001b[0mbatch_start\u001b[0m\u001b[0;34m:\u001b[0m\u001b[0mbatch_end\u001b[0m\u001b[0;34m]\u001b[0m\u001b[0;34m\u001b[0m\u001b[0;34m\u001b[0m\u001b[0m\n",
            "\u001b[0;32m/usr/local/lib/python3.6/dist-packages/tensorflow_core/python/keras/utils/generic_utils.py\u001b[0m in \u001b[0;36mmake_batches\u001b[0;34m(size, batch_size)\u001b[0m\n\u001b[1;32m    489\u001b[0m       \u001b[0mA\u001b[0m \u001b[0mlist\u001b[0m \u001b[0mof\u001b[0m \u001b[0mtuples\u001b[0m \u001b[0mof\u001b[0m \u001b[0marray\u001b[0m \u001b[0mindices\u001b[0m\u001b[0;34m.\u001b[0m\u001b[0;34m\u001b[0m\u001b[0;34m\u001b[0m\u001b[0m\n\u001b[1;32m    490\u001b[0m   \"\"\"\n\u001b[0;32m--> 491\u001b[0;31m   \u001b[0mnum_batches\u001b[0m \u001b[0;34m=\u001b[0m \u001b[0mint\u001b[0m\u001b[0;34m(\u001b[0m\u001b[0mnp\u001b[0m\u001b[0;34m.\u001b[0m\u001b[0mceil\u001b[0m\u001b[0;34m(\u001b[0m\u001b[0msize\u001b[0m \u001b[0;34m/\u001b[0m \u001b[0mfloat\u001b[0m\u001b[0;34m(\u001b[0m\u001b[0mbatch_size\u001b[0m\u001b[0;34m)\u001b[0m\u001b[0;34m)\u001b[0m\u001b[0;34m)\u001b[0m\u001b[0;34m\u001b[0m\u001b[0;34m\u001b[0m\u001b[0m\n\u001b[0m\u001b[1;32m    492\u001b[0m   return [(i * batch_size, min(size, (i + 1) * batch_size))\n\u001b[1;32m    493\u001b[0m           for i in range(0, num_batches)]\n",
            "\u001b[0;31mTypeError\u001b[0m: only size-1 arrays can be converted to Python scalars"
          ]
        }
      ]
    }
  ]
}